{
 "cells": [
  {
   "cell_type": "code",
   "execution_count": 1,
   "id": "93fca571",
   "metadata": {
    "_cell_guid": "b1076dfc-b9ad-4769-8c92-a6c4dae69d19",
    "_uuid": "8f2839f25d086af736a60e9eeb907d3b93b6e0e5",
    "execution": {
     "iopub.execute_input": "2022-11-01T07:18:46.043333Z",
     "iopub.status.busy": "2022-11-01T07:18:46.042699Z",
     "iopub.status.idle": "2022-11-01T07:18:46.059040Z",
     "shell.execute_reply": "2022-11-01T07:18:46.057844Z"
    },
    "papermill": {
     "duration": 0.027197,
     "end_time": "2022-11-01T07:18:46.061533",
     "exception": false,
     "start_time": "2022-11-01T07:18:46.034336",
     "status": "completed"
    },
    "tags": []
   },
   "outputs": [
    {
     "name": "stdout",
     "output_type": "stream",
     "text": [
      "/kaggle/input/titanic/train.csv\n",
      "/kaggle/input/titanic/test.csv\n",
      "/kaggle/input/titanic/gender_submission.csv\n"
     ]
    }
   ],
   "source": [
    "# This Python 3 environment comes with many helpful analytics libraries installed\n",
    "# It is defined by the kaggle/python Docker image: https://github.com/kaggle/docker-python\n",
    "# For example, here's several helpful packages to load\n",
    "\n",
    "import numpy as np # linear algebra\n",
    "import pandas as pd # data processing, CSV file I/O (e.g. pd.read_csv)\n",
    "\n",
    "# Input data files are available in the read-only \"../input/\" directory\n",
    "# For example, running this (by clicking run or pressing Shift+Enter) will list all files under the input directory\n",
    "\n",
    "import os\n",
    "for dirname, _, filenames in os.walk('/kaggle/input'):\n",
    "    for filename in filenames:\n",
    "        print(os.path.join(dirname, filename))\n",
    "\n",
    "# You can write up to 20GB to the current directory (/kaggle/working/) that gets preserved as output when you create a version using \"Save & Run All\" \n",
    "# You can also write temporary files to /kaggle/temp/, but they won't be saved outside of the current session"
   ]
  },
  {
   "cell_type": "code",
   "execution_count": 2,
   "id": "59307922",
   "metadata": {
    "execution": {
     "iopub.execute_input": "2022-11-01T07:18:46.074221Z",
     "iopub.status.busy": "2022-11-01T07:18:46.073540Z",
     "iopub.status.idle": "2022-11-01T07:18:46.125574Z",
     "shell.execute_reply": "2022-11-01T07:18:46.124510Z"
    },
    "papermill": {
     "duration": 0.061353,
     "end_time": "2022-11-01T07:18:46.128304",
     "exception": false,
     "start_time": "2022-11-01T07:18:46.066951",
     "status": "completed"
    },
    "tags": []
   },
   "outputs": [
    {
     "data": {
      "text/plain": [
       "Index(['PassengerId', 'Survived', 'Pclass', 'Name', 'Sex', 'Age', 'SibSp',\n",
       "       'Parch', 'Ticket', 'Fare', 'Cabin', 'Embarked', 'train_test',\n",
       "       'survived'],\n",
       "      dtype='object')"
      ]
     },
     "execution_count": 2,
     "metadata": {},
     "output_type": "execute_result"
    }
   ],
   "source": [
    "# Import the Data. For this analysis, I will be using the Titanic Training data. I'll be validating the model \n",
    "# using both a validation set (obtained from the training data) and the testing data.\n",
    "\n",
    "training = pd.read_csv('/kaggle/input/titanic/train.csv')\n",
    "test = pd.read_csv('/kaggle/input/titanic/test.csv')\n",
    "\n",
    "training['train_test'] = 1\n",
    "test['train_test'] = 0 \n",
    "test['survived'] = np.nan # Locate surviving individuals by stipulating nan values\n",
    "all_data = pd.concat([training, test]) # Concat Training and Test datasets. \n",
    "\n",
    "%matplotlib inline\n",
    "all_data.columns"
   ]
  },
  {
   "cell_type": "markdown",
   "id": "f7636e42",
   "metadata": {
    "papermill": {
     "duration": 0.005131,
     "end_time": "2022-11-01T07:18:46.138660",
     "exception": false,
     "start_time": "2022-11-01T07:18:46.133529",
     "status": "completed"
    },
    "tags": []
   },
   "source": [
    "Project Planning\n",
    "\n",
    "Below is a rough guide to the plan for this project\n",
    "1. Exploratory Data Analysis\n",
    "   Using .info(), .describe() as well as a variety of histograms, boxplots and other graphs. We can perform just some initial exploratory data analysis to provide a general overview of the data we have obtained. This allows us also to look out for missing data, as well as the correlative strength of our variables with one another.\n",
    "   \n",
    "2. Feature Engineering\n",
    "\n",
    "3. Model Baseline\n",
    "\n",
    "4. Model Comparison\n"
   ]
  },
  {
   "cell_type": "code",
   "execution_count": 3,
   "id": "7b572687",
   "metadata": {
    "execution": {
     "iopub.execute_input": "2022-11-01T07:18:46.150794Z",
     "iopub.status.busy": "2022-11-01T07:18:46.150382Z",
     "iopub.status.idle": "2022-11-01T07:18:46.169675Z",
     "shell.execute_reply": "2022-11-01T07:18:46.168674Z"
    },
    "papermill": {
     "duration": 0.02811,
     "end_time": "2022-11-01T07:18:46.171831",
     "exception": false,
     "start_time": "2022-11-01T07:18:46.143721",
     "status": "completed"
    },
    "tags": []
   },
   "outputs": [
    {
     "name": "stdout",
     "output_type": "stream",
     "text": [
      "<class 'pandas.core.frame.DataFrame'>\n",
      "RangeIndex: 891 entries, 0 to 890\n",
      "Data columns (total 13 columns):\n",
      " #   Column       Non-Null Count  Dtype  \n",
      "---  ------       --------------  -----  \n",
      " 0   PassengerId  891 non-null    int64  \n",
      " 1   Survived     891 non-null    int64  \n",
      " 2   Pclass       891 non-null    int64  \n",
      " 3   Name         891 non-null    object \n",
      " 4   Sex          891 non-null    object \n",
      " 5   Age          714 non-null    float64\n",
      " 6   SibSp        891 non-null    int64  \n",
      " 7   Parch        891 non-null    int64  \n",
      " 8   Ticket       891 non-null    object \n",
      " 9   Fare         891 non-null    float64\n",
      " 10  Cabin        204 non-null    object \n",
      " 11  Embarked     889 non-null    object \n",
      " 12  train_test   891 non-null    int64  \n",
      "dtypes: float64(2), int64(6), object(5)\n",
      "memory usage: 90.6+ KB\n"
     ]
    }
   ],
   "source": [
    "training.info()"
   ]
  },
  {
   "cell_type": "code",
   "execution_count": 4,
   "id": "e437b0d1",
   "metadata": {
    "execution": {
     "iopub.execute_input": "2022-11-01T07:18:46.184212Z",
     "iopub.status.busy": "2022-11-01T07:18:46.183610Z",
     "iopub.status.idle": "2022-11-01T07:18:46.228500Z",
     "shell.execute_reply": "2022-11-01T07:18:46.227446Z"
    },
    "papermill": {
     "duration": 0.053874,
     "end_time": "2022-11-01T07:18:46.230983",
     "exception": false,
     "start_time": "2022-11-01T07:18:46.177109",
     "status": "completed"
    },
    "tags": []
   },
   "outputs": [
    {
     "data": {
      "text/html": [
       "<div>\n",
       "<style scoped>\n",
       "    .dataframe tbody tr th:only-of-type {\n",
       "        vertical-align: middle;\n",
       "    }\n",
       "\n",
       "    .dataframe tbody tr th {\n",
       "        vertical-align: top;\n",
       "    }\n",
       "\n",
       "    .dataframe thead th {\n",
       "        text-align: right;\n",
       "    }\n",
       "</style>\n",
       "<table border=\"1\" class=\"dataframe\">\n",
       "  <thead>\n",
       "    <tr style=\"text-align: right;\">\n",
       "      <th></th>\n",
       "      <th>PassengerId</th>\n",
       "      <th>Survived</th>\n",
       "      <th>Pclass</th>\n",
       "      <th>Age</th>\n",
       "      <th>SibSp</th>\n",
       "      <th>Parch</th>\n",
       "      <th>Fare</th>\n",
       "      <th>train_test</th>\n",
       "    </tr>\n",
       "  </thead>\n",
       "  <tbody>\n",
       "    <tr>\n",
       "      <th>count</th>\n",
       "      <td>891.000000</td>\n",
       "      <td>891.000000</td>\n",
       "      <td>891.000000</td>\n",
       "      <td>714.000000</td>\n",
       "      <td>891.000000</td>\n",
       "      <td>891.000000</td>\n",
       "      <td>891.000000</td>\n",
       "      <td>891.0</td>\n",
       "    </tr>\n",
       "    <tr>\n",
       "      <th>mean</th>\n",
       "      <td>446.000000</td>\n",
       "      <td>0.383838</td>\n",
       "      <td>2.308642</td>\n",
       "      <td>29.699118</td>\n",
       "      <td>0.523008</td>\n",
       "      <td>0.381594</td>\n",
       "      <td>32.204208</td>\n",
       "      <td>1.0</td>\n",
       "    </tr>\n",
       "    <tr>\n",
       "      <th>std</th>\n",
       "      <td>257.353842</td>\n",
       "      <td>0.486592</td>\n",
       "      <td>0.836071</td>\n",
       "      <td>14.526497</td>\n",
       "      <td>1.102743</td>\n",
       "      <td>0.806057</td>\n",
       "      <td>49.693429</td>\n",
       "      <td>0.0</td>\n",
       "    </tr>\n",
       "    <tr>\n",
       "      <th>min</th>\n",
       "      <td>1.000000</td>\n",
       "      <td>0.000000</td>\n",
       "      <td>1.000000</td>\n",
       "      <td>0.420000</td>\n",
       "      <td>0.000000</td>\n",
       "      <td>0.000000</td>\n",
       "      <td>0.000000</td>\n",
       "      <td>1.0</td>\n",
       "    </tr>\n",
       "    <tr>\n",
       "      <th>25%</th>\n",
       "      <td>223.500000</td>\n",
       "      <td>0.000000</td>\n",
       "      <td>2.000000</td>\n",
       "      <td>20.125000</td>\n",
       "      <td>0.000000</td>\n",
       "      <td>0.000000</td>\n",
       "      <td>7.910400</td>\n",
       "      <td>1.0</td>\n",
       "    </tr>\n",
       "    <tr>\n",
       "      <th>50%</th>\n",
       "      <td>446.000000</td>\n",
       "      <td>0.000000</td>\n",
       "      <td>3.000000</td>\n",
       "      <td>28.000000</td>\n",
       "      <td>0.000000</td>\n",
       "      <td>0.000000</td>\n",
       "      <td>14.454200</td>\n",
       "      <td>1.0</td>\n",
       "    </tr>\n",
       "    <tr>\n",
       "      <th>75%</th>\n",
       "      <td>668.500000</td>\n",
       "      <td>1.000000</td>\n",
       "      <td>3.000000</td>\n",
       "      <td>38.000000</td>\n",
       "      <td>1.000000</td>\n",
       "      <td>0.000000</td>\n",
       "      <td>31.000000</td>\n",
       "      <td>1.0</td>\n",
       "    </tr>\n",
       "    <tr>\n",
       "      <th>max</th>\n",
       "      <td>891.000000</td>\n",
       "      <td>1.000000</td>\n",
       "      <td>3.000000</td>\n",
       "      <td>80.000000</td>\n",
       "      <td>8.000000</td>\n",
       "      <td>6.000000</td>\n",
       "      <td>512.329200</td>\n",
       "      <td>1.0</td>\n",
       "    </tr>\n",
       "  </tbody>\n",
       "</table>\n",
       "</div>"
      ],
      "text/plain": [
       "       PassengerId    Survived      Pclass         Age       SibSp  \\\n",
       "count   891.000000  891.000000  891.000000  714.000000  891.000000   \n",
       "mean    446.000000    0.383838    2.308642   29.699118    0.523008   \n",
       "std     257.353842    0.486592    0.836071   14.526497    1.102743   \n",
       "min       1.000000    0.000000    1.000000    0.420000    0.000000   \n",
       "25%     223.500000    0.000000    2.000000   20.125000    0.000000   \n",
       "50%     446.000000    0.000000    3.000000   28.000000    0.000000   \n",
       "75%     668.500000    1.000000    3.000000   38.000000    1.000000   \n",
       "max     891.000000    1.000000    3.000000   80.000000    8.000000   \n",
       "\n",
       "            Parch        Fare  train_test  \n",
       "count  891.000000  891.000000       891.0  \n",
       "mean     0.381594   32.204208         1.0  \n",
       "std      0.806057   49.693429         0.0  \n",
       "min      0.000000    0.000000         1.0  \n",
       "25%      0.000000    7.910400         1.0  \n",
       "50%      0.000000   14.454200         1.0  \n",
       "75%      0.000000   31.000000         1.0  \n",
       "max      6.000000  512.329200         1.0  "
      ]
     },
     "execution_count": 4,
     "metadata": {},
     "output_type": "execute_result"
    }
   ],
   "source": [
    "training.describe() # This gives us an understanding of the central tendencies within the data."
   ]
  },
  {
   "cell_type": "code",
   "execution_count": 5,
   "id": "559a55d4",
   "metadata": {
    "execution": {
     "iopub.execute_input": "2022-11-01T07:18:46.243701Z",
     "iopub.status.busy": "2022-11-01T07:18:46.243316Z",
     "iopub.status.idle": "2022-11-01T07:18:46.270433Z",
     "shell.execute_reply": "2022-11-01T07:18:46.269211Z"
    },
    "papermill": {
     "duration": 0.03672,
     "end_time": "2022-11-01T07:18:46.273291",
     "exception": false,
     "start_time": "2022-11-01T07:18:46.236571",
     "status": "completed"
    },
    "tags": []
   },
   "outputs": [],
   "source": [
    "# Separate numeric columns\n",
    "training.describe().columns\n",
    "\n",
    "Titanic_num = training[['Age', 'SibSp', 'Parch', 'Fare']]\n",
    "Titanic_cat = training[['Survived', 'Pclass', 'Sex', 'Ticket', 'Cabin', 'Embarked']]"
   ]
  },
  {
   "cell_type": "code",
   "execution_count": 6,
   "id": "f95e062a",
   "metadata": {
    "execution": {
     "iopub.execute_input": "2022-11-01T07:18:46.286492Z",
     "iopub.status.busy": "2022-11-01T07:18:46.286086Z",
     "iopub.status.idle": "2022-11-01T07:18:46.305380Z",
     "shell.execute_reply": "2022-11-01T07:18:46.304461Z"
    },
    "papermill": {
     "duration": 0.028597,
     "end_time": "2022-11-01T07:18:46.307834",
     "exception": false,
     "start_time": "2022-11-01T07:18:46.279237",
     "status": "completed"
    },
    "tags": []
   },
   "outputs": [
    {
     "data": {
      "text/html": [
       "<div>\n",
       "<style scoped>\n",
       "    .dataframe tbody tr th:only-of-type {\n",
       "        vertical-align: middle;\n",
       "    }\n",
       "\n",
       "    .dataframe tbody tr th {\n",
       "        vertical-align: top;\n",
       "    }\n",
       "\n",
       "    .dataframe thead th {\n",
       "        text-align: right;\n",
       "    }\n",
       "</style>\n",
       "<table border=\"1\" class=\"dataframe\">\n",
       "  <thead>\n",
       "    <tr style=\"text-align: right;\">\n",
       "      <th></th>\n",
       "      <th>Survived</th>\n",
       "      <th>Pclass</th>\n",
       "      <th>Sex</th>\n",
       "      <th>Ticket</th>\n",
       "      <th>Cabin</th>\n",
       "      <th>Embarked</th>\n",
       "    </tr>\n",
       "  </thead>\n",
       "  <tbody>\n",
       "    <tr>\n",
       "      <th>0</th>\n",
       "      <td>0</td>\n",
       "      <td>3</td>\n",
       "      <td>male</td>\n",
       "      <td>A/5 21171</td>\n",
       "      <td>NaN</td>\n",
       "      <td>S</td>\n",
       "    </tr>\n",
       "    <tr>\n",
       "      <th>1</th>\n",
       "      <td>1</td>\n",
       "      <td>1</td>\n",
       "      <td>female</td>\n",
       "      <td>PC 17599</td>\n",
       "      <td>C85</td>\n",
       "      <td>C</td>\n",
       "    </tr>\n",
       "    <tr>\n",
       "      <th>2</th>\n",
       "      <td>1</td>\n",
       "      <td>3</td>\n",
       "      <td>female</td>\n",
       "      <td>STON/O2. 3101282</td>\n",
       "      <td>NaN</td>\n",
       "      <td>S</td>\n",
       "    </tr>\n",
       "    <tr>\n",
       "      <th>3</th>\n",
       "      <td>1</td>\n",
       "      <td>1</td>\n",
       "      <td>female</td>\n",
       "      <td>113803</td>\n",
       "      <td>C123</td>\n",
       "      <td>S</td>\n",
       "    </tr>\n",
       "    <tr>\n",
       "      <th>4</th>\n",
       "      <td>0</td>\n",
       "      <td>3</td>\n",
       "      <td>male</td>\n",
       "      <td>373450</td>\n",
       "      <td>NaN</td>\n",
       "      <td>S</td>\n",
       "    </tr>\n",
       "    <tr>\n",
       "      <th>...</th>\n",
       "      <td>...</td>\n",
       "      <td>...</td>\n",
       "      <td>...</td>\n",
       "      <td>...</td>\n",
       "      <td>...</td>\n",
       "      <td>...</td>\n",
       "    </tr>\n",
       "    <tr>\n",
       "      <th>886</th>\n",
       "      <td>0</td>\n",
       "      <td>2</td>\n",
       "      <td>male</td>\n",
       "      <td>211536</td>\n",
       "      <td>NaN</td>\n",
       "      <td>S</td>\n",
       "    </tr>\n",
       "    <tr>\n",
       "      <th>887</th>\n",
       "      <td>1</td>\n",
       "      <td>1</td>\n",
       "      <td>female</td>\n",
       "      <td>112053</td>\n",
       "      <td>B42</td>\n",
       "      <td>S</td>\n",
       "    </tr>\n",
       "    <tr>\n",
       "      <th>888</th>\n",
       "      <td>0</td>\n",
       "      <td>3</td>\n",
       "      <td>female</td>\n",
       "      <td>W./C. 6607</td>\n",
       "      <td>NaN</td>\n",
       "      <td>S</td>\n",
       "    </tr>\n",
       "    <tr>\n",
       "      <th>889</th>\n",
       "      <td>1</td>\n",
       "      <td>1</td>\n",
       "      <td>male</td>\n",
       "      <td>111369</td>\n",
       "      <td>C148</td>\n",
       "      <td>C</td>\n",
       "    </tr>\n",
       "    <tr>\n",
       "      <th>890</th>\n",
       "      <td>0</td>\n",
       "      <td>3</td>\n",
       "      <td>male</td>\n",
       "      <td>370376</td>\n",
       "      <td>NaN</td>\n",
       "      <td>Q</td>\n",
       "    </tr>\n",
       "  </tbody>\n",
       "</table>\n",
       "<p>891 rows × 6 columns</p>\n",
       "</div>"
      ],
      "text/plain": [
       "     Survived  Pclass     Sex            Ticket Cabin Embarked\n",
       "0           0       3    male         A/5 21171   NaN        S\n",
       "1           1       1  female          PC 17599   C85        C\n",
       "2           1       3  female  STON/O2. 3101282   NaN        S\n",
       "3           1       1  female            113803  C123        S\n",
       "4           0       3    male            373450   NaN        S\n",
       "..        ...     ...     ...               ...   ...      ...\n",
       "886         0       2    male            211536   NaN        S\n",
       "887         1       1  female            112053   B42        S\n",
       "888         0       3  female        W./C. 6607   NaN        S\n",
       "889         1       1    male            111369  C148        C\n",
       "890         0       3    male            370376   NaN        Q\n",
       "\n",
       "[891 rows x 6 columns]"
      ]
     },
     "execution_count": 6,
     "metadata": {},
     "output_type": "execute_result"
    }
   ],
   "source": [
    "Titanic_cat"
   ]
  },
  {
   "cell_type": "code",
   "execution_count": 7,
   "id": "9de035b6",
   "metadata": {
    "execution": {
     "iopub.execute_input": "2022-11-01T07:18:46.323437Z",
     "iopub.status.busy": "2022-11-01T07:18:46.321185Z",
     "iopub.status.idle": "2022-11-01T07:18:47.190319Z",
     "shell.execute_reply": "2022-11-01T07:18:47.189421Z"
    },
    "papermill": {
     "duration": 0.878712,
     "end_time": "2022-11-01T07:18:47.192580",
     "exception": false,
     "start_time": "2022-11-01T07:18:46.313868",
     "status": "completed"
    },
    "tags": []
   },
   "outputs": [
    {
     "data": {
      "image/png": "[encoded data removed]",
      "text/plain": [
       "<Figure size 432x288 with 1 Axes>"
      ]
     },
     "metadata": {
      "needs_background": "light"
     },
     "output_type": "display_data"
    },
    {
     "data": {
      "image/png": "[encoded data removed]",
      "text/plain": [
       "<Figure size 432x288 with 1 Axes>"
      ]
     },
     "metadata": {
      "needs_background": "light"
     },
     "output_type": "display_data"
    },
    {
     "data": {
      "image/png": "[encoded data removed]",
      "text/plain": [
       "<Figure size 432x288 with 1 Axes>"
      ]
     },
     "metadata": {
      "needs_background": "light"
     },
     "output_type": "display_data"
    },
    {
     "data": {
      "image/png": "[encoded data removed]",
      "text/plain": [
       "<Figure size 432x288 with 1 Axes>"
      ]
     },
     "metadata": {
      "needs_background": "light"
     },
     "output_type": "display_data"
    }
   ],
   "source": [
    "#Import matplotlib\n",
    "import matplotlib.pyplot as plt\n",
    "\n",
    "# Use Histograms to show the distribution of all numeric variables\n",
    "for i in Titanic_num.columns:\n",
    "    plt.hist(Titanic_num[i])\n",
    "    plt.title(i)\n",
    "    plt.show()"
   ]
  },
  {
   "cell_type": "markdown",
   "id": "1e6e30ff",
   "metadata": {
    "papermill": {
     "duration": 0.007749,
     "end_time": "2022-11-01T07:18:47.206995",
     "exception": false,
     "start_time": "2022-11-01T07:18:47.199246",
     "status": "completed"
    },
    "tags": []
   },
   "source": [
    "Besides Age , which already looks fairly normaly distributed, all our numeric variables are right skewed. Given this, it means it might\n",
    "work better if we take those variables which are right skewed and consider normalising them."
   ]
  },
  {
   "cell_type": "code",
   "execution_count": 8,
   "id": "bfd0db20",
   "metadata": {
    "execution": {
     "iopub.execute_input": "2022-11-01T07:18:47.222051Z",
     "iopub.status.busy": "2022-11-01T07:18:47.221188Z",
     "iopub.status.idle": "2022-11-01T07:18:48.480324Z",
     "shell.execute_reply": "2022-11-01T07:18:48.479136Z"
    },
    "papermill": {
     "duration": 1.269698,
     "end_time": "2022-11-01T07:18:48.483069",
     "exception": false,
     "start_time": "2022-11-01T07:18:47.213371",
     "status": "completed"
    },
    "tags": []
   },
   "outputs": [
    {
     "data": {
      "text/plain": [
       "<AxesSubplot:>"
      ]
     },
     "execution_count": 8,
     "metadata": {},
     "output_type": "execute_result"
    },
    {
     "data": {
      "image/png": "[encoded data removed]",
      "text/plain": [
       "<Figure size 432x288 with 2 Axes>"
      ]
     },
     "metadata": {
      "needs_background": "light"
     },
     "output_type": "display_data"
    }
   ],
   "source": [
    "# Import Seaborn\n",
    "import seaborn as sns\n",
    "\n",
    "Titanic_num.corr()\n",
    "sns.heatmap(Titanic_num.corr())"
   ]
  },
  {
   "cell_type": "code",
   "execution_count": 9,
   "id": "91c678a7",
   "metadata": {
    "execution": {
     "iopub.execute_input": "2022-11-01T07:18:48.499407Z",
     "iopub.status.busy": "2022-11-01T07:18:48.498692Z",
     "iopub.status.idle": "2022-11-01T07:18:48.530677Z",
     "shell.execute_reply": "2022-11-01T07:18:48.529527Z"
    },
    "papermill": {
     "duration": 0.042766,
     "end_time": "2022-11-01T07:18:48.533163",
     "exception": false,
     "start_time": "2022-11-01T07:18:48.490397",
     "status": "completed"
    },
    "tags": []
   },
   "outputs": [
    {
     "data": {
      "text/html": [
       "<div>\n",
       "<style scoped>\n",
       "    .dataframe tbody tr th:only-of-type {\n",
       "        vertical-align: middle;\n",
       "    }\n",
       "\n",
       "    .dataframe tbody tr th {\n",
       "        vertical-align: top;\n",
       "    }\n",
       "\n",
       "    .dataframe thead th {\n",
       "        text-align: right;\n",
       "    }\n",
       "</style>\n",
       "<table border=\"1\" class=\"dataframe\">\n",
       "  <thead>\n",
       "    <tr style=\"text-align: right;\">\n",
       "      <th></th>\n",
       "      <th>Age</th>\n",
       "      <th>Fare</th>\n",
       "      <th>Parch</th>\n",
       "      <th>PassengerId</th>\n",
       "      <th>Pclass</th>\n",
       "      <th>SibSp</th>\n",
       "      <th>train_test</th>\n",
       "    </tr>\n",
       "    <tr>\n",
       "      <th>Survived</th>\n",
       "      <th></th>\n",
       "      <th></th>\n",
       "      <th></th>\n",
       "      <th></th>\n",
       "      <th></th>\n",
       "      <th></th>\n",
       "      <th></th>\n",
       "    </tr>\n",
       "  </thead>\n",
       "  <tbody>\n",
       "    <tr>\n",
       "      <th>0</th>\n",
       "      <td>30.626179</td>\n",
       "      <td>22.117887</td>\n",
       "      <td>0.329690</td>\n",
       "      <td>447.016393</td>\n",
       "      <td>2.531876</td>\n",
       "      <td>0.553734</td>\n",
       "      <td>1</td>\n",
       "    </tr>\n",
       "    <tr>\n",
       "      <th>1</th>\n",
       "      <td>28.343690</td>\n",
       "      <td>48.395408</td>\n",
       "      <td>0.464912</td>\n",
       "      <td>444.368421</td>\n",
       "      <td>1.950292</td>\n",
       "      <td>0.473684</td>\n",
       "      <td>1</td>\n",
       "    </tr>\n",
       "  </tbody>\n",
       "</table>\n",
       "</div>"
      ],
      "text/plain": [
       "                Age       Fare     Parch  PassengerId    Pclass     SibSp  \\\n",
       "Survived                                                                    \n",
       "0         30.626179  22.117887  0.329690   447.016393  2.531876  0.553734   \n",
       "1         28.343690  48.395408  0.464912   444.368421  1.950292  0.473684   \n",
       "\n",
       "          train_test  \n",
       "Survived              \n",
       "0                  1  \n",
       "1                  1  "
      ]
     },
     "execution_count": 9,
     "metadata": {},
     "output_type": "execute_result"
    }
   ],
   "source": [
    "# Compare Survival rates across the different numerical variables\n",
    "pd.pivot_table(training, index = 'Survived', values = training.columns)"
   ]
  },
  {
   "cell_type": "code",
   "execution_count": 10,
   "id": "f44322b9",
   "metadata": {
    "execution": {
     "iopub.execute_input": "2022-11-01T07:18:48.549172Z",
     "iopub.status.busy": "2022-11-01T07:18:48.548724Z",
     "iopub.status.idle": "2022-11-01T07:18:59.971898Z",
     "shell.execute_reply": "2022-11-01T07:18:59.970553Z"
    },
    "papermill": {
     "duration": 11.434394,
     "end_time": "2022-11-01T07:18:59.974686",
     "exception": false,
     "start_time": "2022-11-01T07:18:48.540292",
     "status": "completed"
    },
    "tags": []
   },
   "outputs": [
    {
     "data": {
      "image/png": "[encoded data removed]",
      "text/plain": [
       "<Figure size 1500x900 with 1 Axes>"
      ]
     },
     "metadata": {
      "needs_background": "light"
     },
     "output_type": "display_data"
    },
    {
     "data": {
      "image/png": "[encoded data removed]",
      "text/plain": [
       "<Figure size 1500x900 with 1 Axes>"
      ]
     },
     "metadata": {
      "needs_background": "light"
     },
     "output_type": "display_data"
    },
    {
     "data": {
      "image/png": "[encoded data removed]",
      "text/plain": [
       "<Figure size 1500x900 with 1 Axes>"
      ]
     },
     "metadata": {
      "needs_background": "light"
     },
     "output_type": "display_data"
    },
    {
     "data": {
      "image/png": "[encoded data removed]",
      "text/plain": [
       "<Figure size 1500x900 with 1 Axes>"
      ]
     },
     "metadata": {
      "needs_background": "light"
     },
     "output_type": "display_data"
    },
    {
     "data": {
      "image/png": "[encoded data removed]",
      "text/plain": [
       "<Figure size 1500x900 with 1 Axes>"
      ]
     },
     "metadata": {
      "needs_background": "light"
     },
     "output_type": "display_data"
    },
    {
     "data": {
      "image/png": "[encoded data removed]",
      "text/plain": [
       "<Figure size 1500x900 with 1 Axes>"
      ]
     },
     "metadata": {
      "needs_background": "light"
     },
     "output_type": "display_data"
    }
   ],
   "source": [
    "# Import Seaborn\n",
    "import seaborn as sns\n",
    "\n",
    "for i in Titanic_cat.columns:\n",
    "    plt.figure(figsize=(10,6), dpi=150)\n",
    "    sns.barplot(data=training, x=Titanic_cat[i].value_counts().index, y=Titanic_cat[i].value_counts())\n",
    "    plt.title(i)\n",
    "    plt.show()"
   ]
  },
  {
   "cell_type": "code",
   "execution_count": 11,
   "id": "7392ca2a",
   "metadata": {
    "execution": {
     "iopub.execute_input": "2022-11-01T07:18:59.997277Z",
     "iopub.status.busy": "2022-11-01T07:18:59.996885Z",
     "iopub.status.idle": "2022-11-01T07:19:00.039263Z",
     "shell.execute_reply": "2022-11-01T07:19:00.037849Z"
    },
    "papermill": {
     "duration": 0.056401,
     "end_time": "2022-11-01T07:19:00.041780",
     "exception": false,
     "start_time": "2022-11-01T07:18:59.985379",
     "status": "completed"
    },
    "tags": []
   },
   "outputs": [
    {
     "name": "stdout",
     "output_type": "stream",
     "text": [
      "Pclass      1   2    3\n",
      "Survived              \n",
      "0          80  97  372\n",
      "1         136  87  119\n",
      "\n",
      "Sex       female  male\n",
      "Survived              \n",
      "0             81   468\n",
      "1            233   109\n",
      "\n",
      "Embarked   C   Q    S\n",
      "Survived             \n",
      "0         75  47  427\n",
      "1         93  30  217\n"
     ]
    }
   ],
   "source": [
    "# Compare Survival of each of the categorical variables\n",
    "print(pd.pivot_table(training, index='Survived', columns='Pclass', values='Ticket', aggfunc='count'))\n",
    "print()\n",
    "print(pd.pivot_table(training, index='Survived', columns='Sex', values='Ticket', aggfunc='count'))\n",
    "print()\n",
    "print(pd.pivot_table(training, index='Survived', columns='Embarked', values='Ticket', aggfunc='count'))"
   ]
  },
  {
   "cell_type": "markdown",
   "id": "d9f62589",
   "metadata": {
    "papermill": {
     "duration": 0.009742,
     "end_time": "2022-11-01T07:19:00.061551",
     "exception": false,
     "start_time": "2022-11-01T07:19:00.051809",
     "status": "completed"
    },
    "tags": []
   },
   "source": [
    "# What types of Feature Engineering Can we do\n",
    "1) Simply cabin data. Does a cabin letter (cabin_adv) or purchase of tickets across multiple cabins (cabin_multiple) impact survival rate? \n",
    "2) Do different ticket types impact on survival rates?"
   ]
  },
  {
   "cell_type": "code",
   "execution_count": 12,
   "id": "28be42a4",
   "metadata": {
    "execution": {
     "iopub.execute_input": "2022-11-01T07:19:00.084190Z",
     "iopub.status.busy": "2022-11-01T07:19:00.083679Z",
     "iopub.status.idle": "2022-11-01T07:19:00.098364Z",
     "shell.execute_reply": "2022-11-01T07:19:00.097143Z"
    },
    "papermill": {
     "duration": 0.029197,
     "end_time": "2022-11-01T07:19:00.100985",
     "exception": false,
     "start_time": "2022-11-01T07:19:00.071788",
     "status": "completed"
    },
    "tags": []
   },
   "outputs": [
    {
     "data": {
      "text/plain": [
       "0    687\n",
       "1    180\n",
       "2     16\n",
       "3      6\n",
       "4      2\n",
       "Name: cabin_multiple, dtype: int64"
      ]
     },
     "execution_count": 12,
     "metadata": {},
     "output_type": "execute_result"
    }
   ],
   "source": [
    "Titanic_cat.Cabin\n",
    "training['cabin_multiple'] = training.Cabin.apply(lambda x: 0 if pd.isna(x) else len(x.split()))\n",
    "training['cabin_multiple'].value_counts()"
   ]
  },
  {
   "cell_type": "code",
   "execution_count": 13,
   "id": "a1318dc2",
   "metadata": {
    "execution": {
     "iopub.execute_input": "2022-11-01T07:19:00.125222Z",
     "iopub.status.busy": "2022-11-01T07:19:00.123913Z",
     "iopub.status.idle": "2022-11-01T07:19:00.151680Z",
     "shell.execute_reply": "2022-11-01T07:19:00.150405Z"
    },
    "papermill": {
     "duration": 0.043043,
     "end_time": "2022-11-01T07:19:00.154698",
     "exception": false,
     "start_time": "2022-11-01T07:19:00.111655",
     "status": "completed"
    },
    "tags": []
   },
   "outputs": [
    {
     "data": {
      "text/html": [
       "<div>\n",
       "<style scoped>\n",
       "    .dataframe tbody tr th:only-of-type {\n",
       "        vertical-align: middle;\n",
       "    }\n",
       "\n",
       "    .dataframe tbody tr th {\n",
       "        vertical-align: top;\n",
       "    }\n",
       "\n",
       "    .dataframe thead th {\n",
       "        text-align: right;\n",
       "    }\n",
       "</style>\n",
       "<table border=\"1\" class=\"dataframe\">\n",
       "  <thead>\n",
       "    <tr style=\"text-align: right;\">\n",
       "      <th>cabin_multiple</th>\n",
       "      <th>0</th>\n",
       "      <th>1</th>\n",
       "      <th>2</th>\n",
       "      <th>3</th>\n",
       "      <th>4</th>\n",
       "    </tr>\n",
       "    <tr>\n",
       "      <th>Survived</th>\n",
       "      <th></th>\n",
       "      <th></th>\n",
       "      <th></th>\n",
       "      <th></th>\n",
       "      <th></th>\n",
       "    </tr>\n",
       "  </thead>\n",
       "  <tbody>\n",
       "    <tr>\n",
       "      <th>0</th>\n",
       "      <td>481.0</td>\n",
       "      <td>58.0</td>\n",
       "      <td>7.0</td>\n",
       "      <td>3.0</td>\n",
       "      <td>NaN</td>\n",
       "    </tr>\n",
       "    <tr>\n",
       "      <th>1</th>\n",
       "      <td>206.0</td>\n",
       "      <td>122.0</td>\n",
       "      <td>9.0</td>\n",
       "      <td>3.0</td>\n",
       "      <td>2.0</td>\n",
       "    </tr>\n",
       "  </tbody>\n",
       "</table>\n",
       "</div>"
      ],
      "text/plain": [
       "cabin_multiple      0      1    2    3    4\n",
       "Survived                                   \n",
       "0               481.0   58.0  7.0  3.0  NaN\n",
       "1               206.0  122.0  9.0  3.0  2.0"
      ]
     },
     "execution_count": 13,
     "metadata": {},
     "output_type": "execute_result"
    }
   ],
   "source": [
    "pd.pivot_table(training, index='Survived', columns='cabin_multiple', values='Ticket', aggfunc='count')"
   ]
  },
  {
   "cell_type": "code",
   "execution_count": 14,
   "id": "84dfc16c",
   "metadata": {
    "execution": {
     "iopub.execute_input": "2022-11-01T07:19:00.178633Z",
     "iopub.status.busy": "2022-11-01T07:19:00.177788Z",
     "iopub.status.idle": "2022-11-01T07:19:00.211685Z",
     "shell.execute_reply": "2022-11-01T07:19:00.210401Z"
    },
    "papermill": {
     "duration": 0.048542,
     "end_time": "2022-11-01T07:19:00.214250",
     "exception": false,
     "start_time": "2022-11-01T07:19:00.165708",
     "status": "completed"
    },
    "tags": []
   },
   "outputs": [
    {
     "name": "stdout",
     "output_type": "stream",
     "text": [
      "n    687\n",
      "C     59\n",
      "B     47\n",
      "D     33\n",
      "E     32\n",
      "A     15\n",
      "F     13\n",
      "G      4\n",
      "T      1\n",
      "Name: cabin_adv, dtype: int64\n"
     ]
    },
    {
     "data": {
      "text/html": [
       "<div>\n",
       "<style scoped>\n",
       "    .dataframe tbody tr th:only-of-type {\n",
       "        vertical-align: middle;\n",
       "    }\n",
       "\n",
       "    .dataframe tbody tr th {\n",
       "        vertical-align: top;\n",
       "    }\n",
       "\n",
       "    .dataframe thead th {\n",
       "        text-align: right;\n",
       "    }\n",
       "</style>\n",
       "<table border=\"1\" class=\"dataframe\">\n",
       "  <thead>\n",
       "    <tr style=\"text-align: right;\">\n",
       "      <th>cabin_adv</th>\n",
       "      <th>A</th>\n",
       "      <th>B</th>\n",
       "      <th>C</th>\n",
       "      <th>D</th>\n",
       "      <th>E</th>\n",
       "      <th>F</th>\n",
       "      <th>G</th>\n",
       "      <th>T</th>\n",
       "      <th>n</th>\n",
       "    </tr>\n",
       "    <tr>\n",
       "      <th>Survived</th>\n",
       "      <th></th>\n",
       "      <th></th>\n",
       "      <th></th>\n",
       "      <th></th>\n",
       "      <th></th>\n",
       "      <th></th>\n",
       "      <th></th>\n",
       "      <th></th>\n",
       "      <th></th>\n",
       "    </tr>\n",
       "  </thead>\n",
       "  <tbody>\n",
       "    <tr>\n",
       "      <th>0</th>\n",
       "      <td>8.0</td>\n",
       "      <td>12.0</td>\n",
       "      <td>24.0</td>\n",
       "      <td>8.0</td>\n",
       "      <td>8.0</td>\n",
       "      <td>5.0</td>\n",
       "      <td>2.0</td>\n",
       "      <td>1.0</td>\n",
       "      <td>481.0</td>\n",
       "    </tr>\n",
       "    <tr>\n",
       "      <th>1</th>\n",
       "      <td>7.0</td>\n",
       "      <td>35.0</td>\n",
       "      <td>35.0</td>\n",
       "      <td>25.0</td>\n",
       "      <td>24.0</td>\n",
       "      <td>8.0</td>\n",
       "      <td>2.0</td>\n",
       "      <td>NaN</td>\n",
       "      <td>206.0</td>\n",
       "    </tr>\n",
       "  </tbody>\n",
       "</table>\n",
       "</div>"
      ],
      "text/plain": [
       "cabin_adv    A     B     C     D     E    F    G    T      n\n",
       "Survived                                                    \n",
       "0          8.0  12.0  24.0   8.0   8.0  5.0  2.0  1.0  481.0\n",
       "1          7.0  35.0  35.0  25.0  24.0  8.0  2.0  NaN  206.0"
      ]
     },
     "execution_count": 14,
     "metadata": {},
     "output_type": "execute_result"
    }
   ],
   "source": [
    "# Compare survival rate by Cabin type\n",
    "training['cabin_adv'] = training.Cabin.apply(lambda x: str(x)[0]) # Create a categorical variable based on cabin letter (n = null)\n",
    "\n",
    "print(training.cabin_adv.value_counts())\n",
    "pd.pivot_table(training, index='Survived', columns='cabin_adv', values='Name', aggfunc='count')"
   ]
  },
  {
   "cell_type": "markdown",
   "id": "fbf0b3f1",
   "metadata": {
    "papermill": {
     "duration": 0.01009,
     "end_time": "2022-11-01T07:19:00.235031",
     "exception": false,
     "start_time": "2022-11-01T07:19:00.224941",
     "status": "completed"
    },
    "tags": []
   },
   "source": []
  },
  {
   "cell_type": "markdown",
   "id": "d9a538a1",
   "metadata": {
    "papermill": {
     "duration": 0.010167,
     "end_time": "2022-11-01T07:19:00.255481",
     "exception": false,
     "start_time": "2022-11-01T07:19:00.245314",
     "status": "completed"
    },
    "tags": []
   },
   "source": []
  },
  {
   "cell_type": "markdown",
   "id": "fffb952d",
   "metadata": {
    "papermill": {
     "duration": 0.009879,
     "end_time": "2022-11-01T07:19:00.275616",
     "exception": false,
     "start_time": "2022-11-01T07:19:00.265737",
     "status": "completed"
    },
    "tags": []
   },
   "source": []
  }
 ],
 "metadata": {
  "kernelspec": {
   "display_name": "Python 3",
   "language": "python",
   "name": "python3"
  },
  "language_info": {
   "codemirror_mode": {
    "name": "ipython",
    "version": 3
   },
   "file_extension": ".py",
   "mimetype": "text/x-python",
   "name": "python",
   "nbconvert_exporter": "python",
   "pygments_lexer": "ipython3",
   "version": "3.7.12"
  },
  "papermill": {
   "default_parameters": {},
   "duration": 23.328143,
   "end_time": "2022-11-01T07:19:01.009602",
   "environment_variables": {},
   "exception": null,
   "input_path": "__notebook__.ipynb",
   "output_path": "__notebook__.ipynb",
   "parameters": {},
   "start_time": "2022-11-01T07:18:37.681459",
   "version": "2.3.4"
  }
 },
 "nbformat": 4,
 "nbformat_minor": 5
}
