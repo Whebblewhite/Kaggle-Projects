{
 "cells": [
  {
   "cell_type": "code",
   "execution_count": 1,
   "id": "2fae0e79",
   "metadata": {
    "_cell_guid": "b1076dfc-b9ad-4769-8c92-a6c4dae69d19",
    "_uuid": "8f2839f25d086af736a60e9eeb907d3b93b6e0e5",
    "execution": {
     "iopub.execute_input": "2022-11-05T06:49:32.987165Z",
     "iopub.status.busy": "2022-11-05T06:49:32.986335Z",
     "iopub.status.idle": "2022-11-05T06:49:33.000537Z",
     "shell.execute_reply": "2022-11-05T06:49:32.998984Z"
    },
    "papermill": {
     "duration": 0.033904,
     "end_time": "2022-11-05T06:49:33.003473",
     "exception": false,
     "start_time": "2022-11-05T06:49:32.969569",
     "status": "completed"
    },
    "tags": []
   },
   "outputs": [
    {
     "name": "stdout",
     "output_type": "stream",
     "text": [
      "/kaggle/input/house-prices-advanced-regression-techniques/sample_submission.csv\n",
      "/kaggle/input/house-prices-advanced-regression-techniques/data_description.txt\n",
      "/kaggle/input/house-prices-advanced-regression-techniques/train.csv\n",
      "/kaggle/input/house-prices-advanced-regression-techniques/test.csv\n"
     ]
    }
   ],
   "source": [
    "# This Python 3 environment comes with many helpful analytics libraries installed\n",
    "# It is defined by the kaggle/python Docker image: https://github.com/kaggle/docker-python\n",
    "# For example, here's several helpful packages to load\n",
    "\n",
    "import numpy as np # linear algebra\n",
    "import pandas as pd # data processing, CSV file I/O (e.g. pd.read_csv)\n",
    "\n",
    "# Input data files are available in the read-only \"../input/\" directory\n",
    "# For example, running this (by clicking run or pressing Shift+Enter) will list all files under the input directory\n",
    "\n",
    "import os\n",
    "for dirname, _, filenames in os.walk('/kaggle/input'):\n",
    "    for filename in filenames:\n",
    "        print(os.path.join(dirname, filename))\n",
    "\n",
    "# You can write up to 20GB to the current directory (/kaggle/working/) that gets preserved as output when you create a version using \"Save & Run All\" \n",
    "# You can also write temporary files to /kaggle/temp/, but they won't be saved outside of the current session"
   ]
  },
  {
   "cell_type": "markdown",
   "id": "b4344199",
   "metadata": {
    "papermill": {
     "duration": 0.014481,
     "end_time": "2022-11-05T06:49:33.031340",
     "exception": false,
     "start_time": "2022-11-05T06:49:33.016859",
     "status": "completed"
    },
    "tags": []
   },
   "source": [
    "Goals of this notebook\n",
    "1. Cleaning\n",
    "2. Feature Engineering\n",
    "3. Feature Transformations\n",
    "4. Encoding\n",
    "5. Scaling\n",
    "6. Target Transformation\n",
    "7. Model Selection\n",
    "8. Hyperparameter Optimisation\n",
    "9. Ensembling\n",
    "10. Feature Selection"
   ]
  },
  {
   "cell_type": "code",
   "execution_count": 2,
   "id": "1e593497",
   "metadata": {
    "execution": {
     "iopub.execute_input": "2022-11-05T06:49:33.059636Z",
     "iopub.status.busy": "2022-11-05T06:49:33.059220Z",
     "iopub.status.idle": "2022-11-05T06:49:33.076305Z",
     "shell.execute_reply": "2022-11-05T06:49:33.075382Z"
    },
    "papermill": {
     "duration": 0.034386,
     "end_time": "2022-11-05T06:49:33.078767",
     "exception": false,
     "start_time": "2022-11-05T06:49:33.044381",
     "status": "completed"
    },
    "tags": []
   },
   "outputs": [],
   "source": [
    "# Check Sample Submission\n",
    "sample_submission = pd.read_csv('/kaggle/input/house-prices-advanced-regression-techniques/sample_submission.csv')"
   ]
  },
  {
   "cell_type": "code",
   "execution_count": 3,
   "id": "ffd49620",
   "metadata": {
    "execution": {
     "iopub.execute_input": "2022-11-05T06:49:33.107250Z",
     "iopub.status.busy": "2022-11-05T06:49:33.106168Z",
     "iopub.status.idle": "2022-11-05T06:49:33.133207Z",
     "shell.execute_reply": "2022-11-05T06:49:33.131919Z"
    },
    "papermill": {
     "duration": 0.043736,
     "end_time": "2022-11-05T06:49:33.135649",
     "exception": false,
     "start_time": "2022-11-05T06:49:33.091913",
     "status": "completed"
    },
    "tags": []
   },
   "outputs": [
    {
     "data": {
      "text/html": [
       "<div>\n",
       "<style scoped>\n",
       "    .dataframe tbody tr th:only-of-type {\n",
       "        vertical-align: middle;\n",
       "    }\n",
       "\n",
       "    .dataframe tbody tr th {\n",
       "        vertical-align: top;\n",
       "    }\n",
       "\n",
       "    .dataframe thead th {\n",
       "        text-align: right;\n",
       "    }\n",
       "</style>\n",
       "<table border=\"1\" class=\"dataframe\">\n",
       "  <thead>\n",
       "    <tr style=\"text-align: right;\">\n",
       "      <th></th>\n",
       "      <th>Id</th>\n",
       "      <th>SalePrice</th>\n",
       "    </tr>\n",
       "  </thead>\n",
       "  <tbody>\n",
       "    <tr>\n",
       "      <th>0</th>\n",
       "      <td>1461</td>\n",
       "      <td>169277.052498</td>\n",
       "    </tr>\n",
       "    <tr>\n",
       "      <th>1</th>\n",
       "      <td>1462</td>\n",
       "      <td>187758.393989</td>\n",
       "    </tr>\n",
       "    <tr>\n",
       "      <th>2</th>\n",
       "      <td>1463</td>\n",
       "      <td>183583.683570</td>\n",
       "    </tr>\n",
       "    <tr>\n",
       "      <th>3</th>\n",
       "      <td>1464</td>\n",
       "      <td>179317.477511</td>\n",
       "    </tr>\n",
       "    <tr>\n",
       "      <th>4</th>\n",
       "      <td>1465</td>\n",
       "      <td>150730.079977</td>\n",
       "    </tr>\n",
       "    <tr>\n",
       "      <th>5</th>\n",
       "      <td>1466</td>\n",
       "      <td>177150.989247</td>\n",
       "    </tr>\n",
       "    <tr>\n",
       "      <th>6</th>\n",
       "      <td>1467</td>\n",
       "      <td>172070.659229</td>\n",
       "    </tr>\n",
       "    <tr>\n",
       "      <th>7</th>\n",
       "      <td>1468</td>\n",
       "      <td>175110.956520</td>\n",
       "    </tr>\n",
       "    <tr>\n",
       "      <th>8</th>\n",
       "      <td>1469</td>\n",
       "      <td>162011.698832</td>\n",
       "    </tr>\n",
       "    <tr>\n",
       "      <th>9</th>\n",
       "      <td>1470</td>\n",
       "      <td>160726.247831</td>\n",
       "    </tr>\n",
       "  </tbody>\n",
       "</table>\n",
       "</div>"
      ],
      "text/plain": [
       "     Id      SalePrice\n",
       "0  1461  169277.052498\n",
       "1  1462  187758.393989\n",
       "2  1463  183583.683570\n",
       "3  1464  179317.477511\n",
       "4  1465  150730.079977\n",
       "5  1466  177150.989247\n",
       "6  1467  172070.659229\n",
       "7  1468  175110.956520\n",
       "8  1469  162011.698832\n",
       "9  1470  160726.247831"
      ]
     },
     "execution_count": 3,
     "metadata": {},
     "output_type": "execute_result"
    }
   ],
   "source": [
    "# This is what our submission should look like\n",
    "sample_submission.head(10)"
   ]
  },
  {
   "cell_type": "code",
   "execution_count": 4,
   "id": "4cd7ab2b",
   "metadata": {
    "execution": {
     "iopub.execute_input": "2022-11-05T06:49:33.163893Z",
     "iopub.status.busy": "2022-11-05T06:49:33.163117Z",
     "iopub.status.idle": "2022-11-05T06:49:33.232469Z",
     "shell.execute_reply": "2022-11-05T06:49:33.231157Z"
    },
    "papermill": {
     "duration": 0.086247,
     "end_time": "2022-11-05T06:49:33.235055",
     "exception": false,
     "start_time": "2022-11-05T06:49:33.148808",
     "status": "completed"
    },
    "tags": []
   },
   "outputs": [],
   "source": [
    "# Load Data\n",
    "\n",
    "train1 = pd.read_csv('/kaggle/input/house-prices-advanced-regression-techniques/train.csv')\n",
    "test1 = pd.read_csv('/kaggle/input/house-prices-advanced-regression-techniques/test.csv')"
   ]
  },
  {
   "cell_type": "code",
   "execution_count": 5,
   "id": "73b49dcf",
   "metadata": {
    "execution": {
     "iopub.execute_input": "2022-11-05T06:49:33.264041Z",
     "iopub.status.busy": "2022-11-05T06:49:33.263644Z",
     "iopub.status.idle": "2022-11-05T06:49:33.292833Z",
     "shell.execute_reply": "2022-11-05T06:49:33.291645Z"
    },
    "papermill": {
     "duration": 0.046452,
     "end_time": "2022-11-05T06:49:33.295407",
     "exception": false,
     "start_time": "2022-11-05T06:49:33.248955",
     "status": "completed"
    },
    "tags": []
   },
   "outputs": [
    {
     "data": {
      "text/html": [
       "<div>\n",
       "<style scoped>\n",
       "    .dataframe tbody tr th:only-of-type {\n",
       "        vertical-align: middle;\n",
       "    }\n",
       "\n",
       "    .dataframe tbody tr th {\n",
       "        vertical-align: top;\n",
       "    }\n",
       "\n",
       "    .dataframe thead th {\n",
       "        text-align: right;\n",
       "    }\n",
       "</style>\n",
       "<table border=\"1\" class=\"dataframe\">\n",
       "  <thead>\n",
       "    <tr style=\"text-align: right;\">\n",
       "      <th></th>\n",
       "      <th>Id</th>\n",
       "      <th>MSSubClass</th>\n",
       "      <th>MSZoning</th>\n",
       "      <th>LotFrontage</th>\n",
       "      <th>LotArea</th>\n",
       "      <th>Street</th>\n",
       "      <th>Alley</th>\n",
       "      <th>LotShape</th>\n",
       "      <th>LandContour</th>\n",
       "      <th>Utilities</th>\n",
       "      <th>...</th>\n",
       "      <th>PoolArea</th>\n",
       "      <th>PoolQC</th>\n",
       "      <th>Fence</th>\n",
       "      <th>MiscFeature</th>\n",
       "      <th>MiscVal</th>\n",
       "      <th>MoSold</th>\n",
       "      <th>YrSold</th>\n",
       "      <th>SaleType</th>\n",
       "      <th>SaleCondition</th>\n",
       "      <th>SalePrice</th>\n",
       "    </tr>\n",
       "  </thead>\n",
       "  <tbody>\n",
       "    <tr>\n",
       "      <th>0</th>\n",
       "      <td>1</td>\n",
       "      <td>60</td>\n",
       "      <td>RL</td>\n",
       "      <td>65.0</td>\n",
       "      <td>8450</td>\n",
       "      <td>Pave</td>\n",
       "      <td>NaN</td>\n",
       "      <td>Reg</td>\n",
       "      <td>Lvl</td>\n",
       "      <td>AllPub</td>\n",
       "      <td>...</td>\n",
       "      <td>0</td>\n",
       "      <td>NaN</td>\n",
       "      <td>NaN</td>\n",
       "      <td>NaN</td>\n",
       "      <td>0</td>\n",
       "      <td>2</td>\n",
       "      <td>2008</td>\n",
       "      <td>WD</td>\n",
       "      <td>Normal</td>\n",
       "      <td>208500</td>\n",
       "    </tr>\n",
       "    <tr>\n",
       "      <th>1</th>\n",
       "      <td>2</td>\n",
       "      <td>20</td>\n",
       "      <td>RL</td>\n",
       "      <td>80.0</td>\n",
       "      <td>9600</td>\n",
       "      <td>Pave</td>\n",
       "      <td>NaN</td>\n",
       "      <td>Reg</td>\n",
       "      <td>Lvl</td>\n",
       "      <td>AllPub</td>\n",
       "      <td>...</td>\n",
       "      <td>0</td>\n",
       "      <td>NaN</td>\n",
       "      <td>NaN</td>\n",
       "      <td>NaN</td>\n",
       "      <td>0</td>\n",
       "      <td>5</td>\n",
       "      <td>2007</td>\n",
       "      <td>WD</td>\n",
       "      <td>Normal</td>\n",
       "      <td>181500</td>\n",
       "    </tr>\n",
       "    <tr>\n",
       "      <th>2</th>\n",
       "      <td>3</td>\n",
       "      <td>60</td>\n",
       "      <td>RL</td>\n",
       "      <td>68.0</td>\n",
       "      <td>11250</td>\n",
       "      <td>Pave</td>\n",
       "      <td>NaN</td>\n",
       "      <td>IR1</td>\n",
       "      <td>Lvl</td>\n",
       "      <td>AllPub</td>\n",
       "      <td>...</td>\n",
       "      <td>0</td>\n",
       "      <td>NaN</td>\n",
       "      <td>NaN</td>\n",
       "      <td>NaN</td>\n",
       "      <td>0</td>\n",
       "      <td>9</td>\n",
       "      <td>2008</td>\n",
       "      <td>WD</td>\n",
       "      <td>Normal</td>\n",
       "      <td>223500</td>\n",
       "    </tr>\n",
       "    <tr>\n",
       "      <th>3</th>\n",
       "      <td>4</td>\n",
       "      <td>70</td>\n",
       "      <td>RL</td>\n",
       "      <td>60.0</td>\n",
       "      <td>9550</td>\n",
       "      <td>Pave</td>\n",
       "      <td>NaN</td>\n",
       "      <td>IR1</td>\n",
       "      <td>Lvl</td>\n",
       "      <td>AllPub</td>\n",
       "      <td>...</td>\n",
       "      <td>0</td>\n",
       "      <td>NaN</td>\n",
       "      <td>NaN</td>\n",
       "      <td>NaN</td>\n",
       "      <td>0</td>\n",
       "      <td>2</td>\n",
       "      <td>2006</td>\n",
       "      <td>WD</td>\n",
       "      <td>Abnorml</td>\n",
       "      <td>140000</td>\n",
       "    </tr>\n",
       "    <tr>\n",
       "      <th>4</th>\n",
       "      <td>5</td>\n",
       "      <td>60</td>\n",
       "      <td>RL</td>\n",
       "      <td>84.0</td>\n",
       "      <td>14260</td>\n",
       "      <td>Pave</td>\n",
       "      <td>NaN</td>\n",
       "      <td>IR1</td>\n",
       "      <td>Lvl</td>\n",
       "      <td>AllPub</td>\n",
       "      <td>...</td>\n",
       "      <td>0</td>\n",
       "      <td>NaN</td>\n",
       "      <td>NaN</td>\n",
       "      <td>NaN</td>\n",
       "      <td>0</td>\n",
       "      <td>12</td>\n",
       "      <td>2008</td>\n",
       "      <td>WD</td>\n",
       "      <td>Normal</td>\n",
       "      <td>250000</td>\n",
       "    </tr>\n",
       "  </tbody>\n",
       "</table>\n",
       "<p>5 rows × 81 columns</p>\n",
       "</div>"
      ],
      "text/plain": [
       "   Id  MSSubClass MSZoning  LotFrontage  LotArea Street Alley LotShape  \\\n",
       "0   1          60       RL         65.0     8450   Pave   NaN      Reg   \n",
       "1   2          20       RL         80.0     9600   Pave   NaN      Reg   \n",
       "2   3          60       RL         68.0    11250   Pave   NaN      IR1   \n",
       "3   4          70       RL         60.0     9550   Pave   NaN      IR1   \n",
       "4   5          60       RL         84.0    14260   Pave   NaN      IR1   \n",
       "\n",
       "  LandContour Utilities  ... PoolArea PoolQC Fence MiscFeature MiscVal MoSold  \\\n",
       "0         Lvl    AllPub  ...        0    NaN   NaN         NaN       0      2   \n",
       "1         Lvl    AllPub  ...        0    NaN   NaN         NaN       0      5   \n",
       "2         Lvl    AllPub  ...        0    NaN   NaN         NaN       0      9   \n",
       "3         Lvl    AllPub  ...        0    NaN   NaN         NaN       0      2   \n",
       "4         Lvl    AllPub  ...        0    NaN   NaN         NaN       0     12   \n",
       "\n",
       "  YrSold  SaleType  SaleCondition  SalePrice  \n",
       "0   2008        WD         Normal     208500  \n",
       "1   2007        WD         Normal     181500  \n",
       "2   2008        WD         Normal     223500  \n",
       "3   2006        WD        Abnorml     140000  \n",
       "4   2008        WD         Normal     250000  \n",
       "\n",
       "[5 rows x 81 columns]"
      ]
     },
     "execution_count": 5,
     "metadata": {},
     "output_type": "execute_result"
    }
   ],
   "source": [
    "train1.head(5) # Just check to see what data looks like "
   ]
  },
  {
   "cell_type": "code",
   "execution_count": 6,
   "id": "506615f1",
   "metadata": {
    "execution": {
     "iopub.execute_input": "2022-11-05T06:49:33.324745Z",
     "iopub.status.busy": "2022-11-05T06:49:33.324323Z",
     "iopub.status.idle": "2022-11-05T06:49:33.350647Z",
     "shell.execute_reply": "2022-11-05T06:49:33.349248Z"
    },
    "papermill": {
     "duration": 0.044505,
     "end_time": "2022-11-05T06:49:33.353482",
     "exception": false,
     "start_time": "2022-11-05T06:49:33.308977",
     "status": "completed"
    },
    "tags": []
   },
   "outputs": [
    {
     "data": {
      "text/html": [
       "<div>\n",
       "<style scoped>\n",
       "    .dataframe tbody tr th:only-of-type {\n",
       "        vertical-align: middle;\n",
       "    }\n",
       "\n",
       "    .dataframe tbody tr th {\n",
       "        vertical-align: top;\n",
       "    }\n",
       "\n",
       "    .dataframe thead th {\n",
       "        text-align: right;\n",
       "    }\n",
       "</style>\n",
       "<table border=\"1\" class=\"dataframe\">\n",
       "  <thead>\n",
       "    <tr style=\"text-align: right;\">\n",
       "      <th></th>\n",
       "      <th>Id</th>\n",
       "      <th>MSSubClass</th>\n",
       "      <th>MSZoning</th>\n",
       "      <th>LotFrontage</th>\n",
       "      <th>LotArea</th>\n",
       "      <th>Street</th>\n",
       "      <th>Alley</th>\n",
       "      <th>LotShape</th>\n",
       "      <th>LandContour</th>\n",
       "      <th>Utilities</th>\n",
       "      <th>...</th>\n",
       "      <th>ScreenPorch</th>\n",
       "      <th>PoolArea</th>\n",
       "      <th>PoolQC</th>\n",
       "      <th>Fence</th>\n",
       "      <th>MiscFeature</th>\n",
       "      <th>MiscVal</th>\n",
       "      <th>MoSold</th>\n",
       "      <th>YrSold</th>\n",
       "      <th>SaleType</th>\n",
       "      <th>SaleCondition</th>\n",
       "    </tr>\n",
       "  </thead>\n",
       "  <tbody>\n",
       "    <tr>\n",
       "      <th>0</th>\n",
       "      <td>1461</td>\n",
       "      <td>20</td>\n",
       "      <td>RH</td>\n",
       "      <td>80.0</td>\n",
       "      <td>11622</td>\n",
       "      <td>Pave</td>\n",
       "      <td>NaN</td>\n",
       "      <td>Reg</td>\n",
       "      <td>Lvl</td>\n",
       "      <td>AllPub</td>\n",
       "      <td>...</td>\n",
       "      <td>120</td>\n",
       "      <td>0</td>\n",
       "      <td>NaN</td>\n",
       "      <td>MnPrv</td>\n",
       "      <td>NaN</td>\n",
       "      <td>0</td>\n",
       "      <td>6</td>\n",
       "      <td>2010</td>\n",
       "      <td>WD</td>\n",
       "      <td>Normal</td>\n",
       "    </tr>\n",
       "    <tr>\n",
       "      <th>1</th>\n",
       "      <td>1462</td>\n",
       "      <td>20</td>\n",
       "      <td>RL</td>\n",
       "      <td>81.0</td>\n",
       "      <td>14267</td>\n",
       "      <td>Pave</td>\n",
       "      <td>NaN</td>\n",
       "      <td>IR1</td>\n",
       "      <td>Lvl</td>\n",
       "      <td>AllPub</td>\n",
       "      <td>...</td>\n",
       "      <td>0</td>\n",
       "      <td>0</td>\n",
       "      <td>NaN</td>\n",
       "      <td>NaN</td>\n",
       "      <td>Gar2</td>\n",
       "      <td>12500</td>\n",
       "      <td>6</td>\n",
       "      <td>2010</td>\n",
       "      <td>WD</td>\n",
       "      <td>Normal</td>\n",
       "    </tr>\n",
       "    <tr>\n",
       "      <th>2</th>\n",
       "      <td>1463</td>\n",
       "      <td>60</td>\n",
       "      <td>RL</td>\n",
       "      <td>74.0</td>\n",
       "      <td>13830</td>\n",
       "      <td>Pave</td>\n",
       "      <td>NaN</td>\n",
       "      <td>IR1</td>\n",
       "      <td>Lvl</td>\n",
       "      <td>AllPub</td>\n",
       "      <td>...</td>\n",
       "      <td>0</td>\n",
       "      <td>0</td>\n",
       "      <td>NaN</td>\n",
       "      <td>MnPrv</td>\n",
       "      <td>NaN</td>\n",
       "      <td>0</td>\n",
       "      <td>3</td>\n",
       "      <td>2010</td>\n",
       "      <td>WD</td>\n",
       "      <td>Normal</td>\n",
       "    </tr>\n",
       "    <tr>\n",
       "      <th>3</th>\n",
       "      <td>1464</td>\n",
       "      <td>60</td>\n",
       "      <td>RL</td>\n",
       "      <td>78.0</td>\n",
       "      <td>9978</td>\n",
       "      <td>Pave</td>\n",
       "      <td>NaN</td>\n",
       "      <td>IR1</td>\n",
       "      <td>Lvl</td>\n",
       "      <td>AllPub</td>\n",
       "      <td>...</td>\n",
       "      <td>0</td>\n",
       "      <td>0</td>\n",
       "      <td>NaN</td>\n",
       "      <td>NaN</td>\n",
       "      <td>NaN</td>\n",
       "      <td>0</td>\n",
       "      <td>6</td>\n",
       "      <td>2010</td>\n",
       "      <td>WD</td>\n",
       "      <td>Normal</td>\n",
       "    </tr>\n",
       "    <tr>\n",
       "      <th>4</th>\n",
       "      <td>1465</td>\n",
       "      <td>120</td>\n",
       "      <td>RL</td>\n",
       "      <td>43.0</td>\n",
       "      <td>5005</td>\n",
       "      <td>Pave</td>\n",
       "      <td>NaN</td>\n",
       "      <td>IR1</td>\n",
       "      <td>HLS</td>\n",
       "      <td>AllPub</td>\n",
       "      <td>...</td>\n",
       "      <td>144</td>\n",
       "      <td>0</td>\n",
       "      <td>NaN</td>\n",
       "      <td>NaN</td>\n",
       "      <td>NaN</td>\n",
       "      <td>0</td>\n",
       "      <td>1</td>\n",
       "      <td>2010</td>\n",
       "      <td>WD</td>\n",
       "      <td>Normal</td>\n",
       "    </tr>\n",
       "  </tbody>\n",
       "</table>\n",
       "<p>5 rows × 80 columns</p>\n",
       "</div>"
      ],
      "text/plain": [
       "     Id  MSSubClass MSZoning  LotFrontage  LotArea Street Alley LotShape  \\\n",
       "0  1461          20       RH         80.0    11622   Pave   NaN      Reg   \n",
       "1  1462          20       RL         81.0    14267   Pave   NaN      IR1   \n",
       "2  1463          60       RL         74.0    13830   Pave   NaN      IR1   \n",
       "3  1464          60       RL         78.0     9978   Pave   NaN      IR1   \n",
       "4  1465         120       RL         43.0     5005   Pave   NaN      IR1   \n",
       "\n",
       "  LandContour Utilities  ... ScreenPorch PoolArea PoolQC  Fence MiscFeature  \\\n",
       "0         Lvl    AllPub  ...         120        0    NaN  MnPrv         NaN   \n",
       "1         Lvl    AllPub  ...           0        0    NaN    NaN        Gar2   \n",
       "2         Lvl    AllPub  ...           0        0    NaN  MnPrv         NaN   \n",
       "3         Lvl    AllPub  ...           0        0    NaN    NaN         NaN   \n",
       "4         HLS    AllPub  ...         144        0    NaN    NaN         NaN   \n",
       "\n",
       "  MiscVal MoSold  YrSold  SaleType  SaleCondition  \n",
       "0       0      6    2010        WD         Normal  \n",
       "1   12500      6    2010        WD         Normal  \n",
       "2       0      3    2010        WD         Normal  \n",
       "3       0      6    2010        WD         Normal  \n",
       "4       0      1    2010        WD         Normal  \n",
       "\n",
       "[5 rows x 80 columns]"
      ]
     },
     "execution_count": 6,
     "metadata": {},
     "output_type": "execute_result"
    }
   ],
   "source": [
    "test1.head(5) # Just check to see what data looks like "
   ]
  },
  {
   "cell_type": "code",
   "execution_count": 7,
   "id": "70b61441",
   "metadata": {
    "execution": {
     "iopub.execute_input": "2022-11-05T06:49:33.383440Z",
     "iopub.status.busy": "2022-11-05T06:49:33.382981Z",
     "iopub.status.idle": "2022-11-05T06:49:33.430390Z",
     "shell.execute_reply": "2022-11-05T06:49:33.429164Z"
    },
    "papermill": {
     "duration": 0.065911,
     "end_time": "2022-11-05T06:49:33.433462",
     "exception": false,
     "start_time": "2022-11-05T06:49:33.367551",
     "status": "completed"
    },
    "tags": []
   },
   "outputs": [
    {
     "data": {
      "text/html": [
       "<div>\n",
       "<style scoped>\n",
       "    .dataframe tbody tr th:only-of-type {\n",
       "        vertical-align: middle;\n",
       "    }\n",
       "\n",
       "    .dataframe tbody tr th {\n",
       "        vertical-align: top;\n",
       "    }\n",
       "\n",
       "    .dataframe thead th {\n",
       "        text-align: right;\n",
       "    }\n",
       "</style>\n",
       "<table border=\"1\" class=\"dataframe\">\n",
       "  <thead>\n",
       "    <tr style=\"text-align: right;\">\n",
       "      <th></th>\n",
       "      <th>MSSubClass</th>\n",
       "      <th>MSZoning</th>\n",
       "      <th>LotFrontage</th>\n",
       "      <th>LotArea</th>\n",
       "      <th>Street</th>\n",
       "      <th>Alley</th>\n",
       "      <th>LotShape</th>\n",
       "      <th>LandContour</th>\n",
       "      <th>Utilities</th>\n",
       "      <th>LotConfig</th>\n",
       "      <th>...</th>\n",
       "      <th>ScreenPorch</th>\n",
       "      <th>PoolArea</th>\n",
       "      <th>PoolQC</th>\n",
       "      <th>Fence</th>\n",
       "      <th>MiscFeature</th>\n",
       "      <th>MiscVal</th>\n",
       "      <th>MoSold</th>\n",
       "      <th>YrSold</th>\n",
       "      <th>SaleType</th>\n",
       "      <th>SaleCondition</th>\n",
       "    </tr>\n",
       "  </thead>\n",
       "  <tbody>\n",
       "    <tr>\n",
       "      <th>0</th>\n",
       "      <td>60</td>\n",
       "      <td>RL</td>\n",
       "      <td>65.0</td>\n",
       "      <td>8450</td>\n",
       "      <td>Pave</td>\n",
       "      <td>NaN</td>\n",
       "      <td>Reg</td>\n",
       "      <td>Lvl</td>\n",
       "      <td>AllPub</td>\n",
       "      <td>Inside</td>\n",
       "      <td>...</td>\n",
       "      <td>0</td>\n",
       "      <td>0</td>\n",
       "      <td>NaN</td>\n",
       "      <td>NaN</td>\n",
       "      <td>NaN</td>\n",
       "      <td>0</td>\n",
       "      <td>2</td>\n",
       "      <td>2008</td>\n",
       "      <td>WD</td>\n",
       "      <td>Normal</td>\n",
       "    </tr>\n",
       "    <tr>\n",
       "      <th>1</th>\n",
       "      <td>20</td>\n",
       "      <td>RL</td>\n",
       "      <td>80.0</td>\n",
       "      <td>9600</td>\n",
       "      <td>Pave</td>\n",
       "      <td>NaN</td>\n",
       "      <td>Reg</td>\n",
       "      <td>Lvl</td>\n",
       "      <td>AllPub</td>\n",
       "      <td>FR2</td>\n",
       "      <td>...</td>\n",
       "      <td>0</td>\n",
       "      <td>0</td>\n",
       "      <td>NaN</td>\n",
       "      <td>NaN</td>\n",
       "      <td>NaN</td>\n",
       "      <td>0</td>\n",
       "      <td>5</td>\n",
       "      <td>2007</td>\n",
       "      <td>WD</td>\n",
       "      <td>Normal</td>\n",
       "    </tr>\n",
       "    <tr>\n",
       "      <th>2</th>\n",
       "      <td>60</td>\n",
       "      <td>RL</td>\n",
       "      <td>68.0</td>\n",
       "      <td>11250</td>\n",
       "      <td>Pave</td>\n",
       "      <td>NaN</td>\n",
       "      <td>IR1</td>\n",
       "      <td>Lvl</td>\n",
       "      <td>AllPub</td>\n",
       "      <td>Inside</td>\n",
       "      <td>...</td>\n",
       "      <td>0</td>\n",
       "      <td>0</td>\n",
       "      <td>NaN</td>\n",
       "      <td>NaN</td>\n",
       "      <td>NaN</td>\n",
       "      <td>0</td>\n",
       "      <td>9</td>\n",
       "      <td>2008</td>\n",
       "      <td>WD</td>\n",
       "      <td>Normal</td>\n",
       "    </tr>\n",
       "    <tr>\n",
       "      <th>3</th>\n",
       "      <td>70</td>\n",
       "      <td>RL</td>\n",
       "      <td>60.0</td>\n",
       "      <td>9550</td>\n",
       "      <td>Pave</td>\n",
       "      <td>NaN</td>\n",
       "      <td>IR1</td>\n",
       "      <td>Lvl</td>\n",
       "      <td>AllPub</td>\n",
       "      <td>Corner</td>\n",
       "      <td>...</td>\n",
       "      <td>0</td>\n",
       "      <td>0</td>\n",
       "      <td>NaN</td>\n",
       "      <td>NaN</td>\n",
       "      <td>NaN</td>\n",
       "      <td>0</td>\n",
       "      <td>2</td>\n",
       "      <td>2006</td>\n",
       "      <td>WD</td>\n",
       "      <td>Abnorml</td>\n",
       "    </tr>\n",
       "    <tr>\n",
       "      <th>4</th>\n",
       "      <td>60</td>\n",
       "      <td>RL</td>\n",
       "      <td>84.0</td>\n",
       "      <td>14260</td>\n",
       "      <td>Pave</td>\n",
       "      <td>NaN</td>\n",
       "      <td>IR1</td>\n",
       "      <td>Lvl</td>\n",
       "      <td>AllPub</td>\n",
       "      <td>FR2</td>\n",
       "      <td>...</td>\n",
       "      <td>0</td>\n",
       "      <td>0</td>\n",
       "      <td>NaN</td>\n",
       "      <td>NaN</td>\n",
       "      <td>NaN</td>\n",
       "      <td>0</td>\n",
       "      <td>12</td>\n",
       "      <td>2008</td>\n",
       "      <td>WD</td>\n",
       "      <td>Normal</td>\n",
       "    </tr>\n",
       "  </tbody>\n",
       "</table>\n",
       "<p>5 rows × 79 columns</p>\n",
       "</div>"
      ],
      "text/plain": [
       "   MSSubClass MSZoning  LotFrontage  LotArea Street Alley LotShape  \\\n",
       "0          60       RL         65.0     8450   Pave   NaN      Reg   \n",
       "1          20       RL         80.0     9600   Pave   NaN      Reg   \n",
       "2          60       RL         68.0    11250   Pave   NaN      IR1   \n",
       "3          70       RL         60.0     9550   Pave   NaN      IR1   \n",
       "4          60       RL         84.0    14260   Pave   NaN      IR1   \n",
       "\n",
       "  LandContour Utilities LotConfig  ... ScreenPorch PoolArea PoolQC Fence  \\\n",
       "0         Lvl    AllPub    Inside  ...           0        0    NaN   NaN   \n",
       "1         Lvl    AllPub       FR2  ...           0        0    NaN   NaN   \n",
       "2         Lvl    AllPub    Inside  ...           0        0    NaN   NaN   \n",
       "3         Lvl    AllPub    Corner  ...           0        0    NaN   NaN   \n",
       "4         Lvl    AllPub       FR2  ...           0        0    NaN   NaN   \n",
       "\n",
       "  MiscFeature MiscVal  MoSold  YrSold  SaleType  SaleCondition  \n",
       "0         NaN       0       2    2008        WD         Normal  \n",
       "1         NaN       0       5    2007        WD         Normal  \n",
       "2         NaN       0       9    2008        WD         Normal  \n",
       "3         NaN       0       2    2006        WD        Abnorml  \n",
       "4         NaN       0      12    2008        WD         Normal  \n",
       "\n",
       "[5 rows x 79 columns]"
      ]
     },
     "execution_count": 7,
     "metadata": {},
     "output_type": "execute_result"
    }
   ],
   "source": [
    "# We are going to combine the Test and Train sets for ease of pre-processing before splitting them\n",
    "# First we designate our Target variable ('SalePrice')\n",
    "Target = train1['SalePrice']\n",
    "Test_ids = test1['Id']\n",
    "\n",
    "train2 = train1.drop(['SalePrice', 'Id'], axis=1)\n",
    "test2 = test1.drop(['Id'], axis=1)\n",
    "\n",
    "\n",
    "data1 = pd.concat([train2, test2], axis=0)\n",
    "data1.head()"
   ]
  },
  {
   "cell_type": "code",
   "execution_count": 8,
   "id": "10336b96",
   "metadata": {
    "execution": {
     "iopub.execute_input": "2022-11-05T06:49:33.464545Z",
     "iopub.status.busy": "2022-11-05T06:49:33.464080Z",
     "iopub.status.idle": "2022-11-05T06:49:33.468630Z",
     "shell.execute_reply": "2022-11-05T06:49:33.467627Z"
    },
    "papermill": {
     "duration": 0.022548,
     "end_time": "2022-11-05T06:49:33.470843",
     "exception": false,
     "start_time": "2022-11-05T06:49:33.448295",
     "status": "completed"
    },
    "tags": []
   },
   "outputs": [],
   "source": [
    "# Cleaning "
   ]
  },
  {
   "cell_type": "code",
   "execution_count": 9,
   "id": "844a5f3d",
   "metadata": {
    "execution": {
     "iopub.execute_input": "2022-11-05T06:49:33.501392Z",
     "iopub.status.busy": "2022-11-05T06:49:33.500989Z",
     "iopub.status.idle": "2022-11-05T06:49:33.537863Z",
     "shell.execute_reply": "2022-11-05T06:49:33.536407Z"
    },
    "papermill": {
     "duration": 0.05578,
     "end_time": "2022-11-05T06:49:33.540973",
     "exception": false,
     "start_time": "2022-11-05T06:49:33.485193",
     "status": "completed"
    },
    "tags": []
   },
   "outputs": [
    {
     "name": "stdout",
     "output_type": "stream",
     "text": [
      "<class 'pandas.core.frame.DataFrame'>\n",
      "Int64Index: 2919 entries, 0 to 1458\n",
      "Data columns (total 79 columns):\n",
      " #   Column         Non-Null Count  Dtype  \n",
      "---  ------         --------------  -----  \n",
      " 0   MSSubClass     2919 non-null   int64  \n",
      " 1   MSZoning       2915 non-null   object \n",
      " 2   LotFrontage    2433 non-null   float64\n",
      " 3   LotArea        2919 non-null   int64  \n",
      " 4   Street         2919 non-null   object \n",
      " 5   Alley          198 non-null    object \n",
      " 6   LotShape       2919 non-null   object \n",
      " 7   LandContour    2919 non-null   object \n",
      " 8   Utilities      2917 non-null   object \n",
      " 9   LotConfig      2919 non-null   object \n",
      " 10  LandSlope      2919 non-null   object \n",
      " 11  Neighborhood   2919 non-null   object \n",
      " 12  Condition1     2919 non-null   object \n",
      " 13  Condition2     2919 non-null   object \n",
      " 14  BldgType       2919 non-null   object \n",
      " 15  HouseStyle     2919 non-null   object \n",
      " 16  OverallQual    2919 non-null   int64  \n",
      " 17  OverallCond    2919 non-null   int64  \n",
      " 18  YearBuilt      2919 non-null   int64  \n",
      " 19  YearRemodAdd   2919 non-null   int64  \n",
      " 20  RoofStyle      2919 non-null   object \n",
      " 21  RoofMatl       2919 non-null   object \n",
      " 22  Exterior1st    2918 non-null   object \n",
      " 23  Exterior2nd    2918 non-null   object \n",
      " 24  MasVnrType     2895 non-null   object \n",
      " 25  MasVnrArea     2896 non-null   float64\n",
      " 26  ExterQual      2919 non-null   object \n",
      " 27  ExterCond      2919 non-null   object \n",
      " 28  Foundation     2919 non-null   object \n",
      " 29  BsmtQual       2838 non-null   object \n",
      " 30  BsmtCond       2837 non-null   object \n",
      " 31  BsmtExposure   2837 non-null   object \n",
      " 32  BsmtFinType1   2840 non-null   object \n",
      " 33  BsmtFinSF1     2918 non-null   float64\n",
      " 34  BsmtFinType2   2839 non-null   object \n",
      " 35  BsmtFinSF2     2918 non-null   float64\n",
      " 36  BsmtUnfSF      2918 non-null   float64\n",
      " 37  TotalBsmtSF    2918 non-null   float64\n",
      " 38  Heating        2919 non-null   object \n",
      " 39  HeatingQC      2919 non-null   object \n",
      " 40  CentralAir     2919 non-null   object \n",
      " 41  Electrical     2918 non-null   object \n",
      " 42  1stFlrSF       2919 non-null   int64  \n",
      " 43  2ndFlrSF       2919 non-null   int64  \n",
      " 44  LowQualFinSF   2919 non-null   int64  \n",
      " 45  GrLivArea      2919 non-null   int64  \n",
      " 46  BsmtFullBath   2917 non-null   float64\n",
      " 47  BsmtHalfBath   2917 non-null   float64\n",
      " 48  FullBath       2919 non-null   int64  \n",
      " 49  HalfBath       2919 non-null   int64  \n",
      " 50  BedroomAbvGr   2919 non-null   int64  \n",
      " 51  KitchenAbvGr   2919 non-null   int64  \n",
      " 52  KitchenQual    2918 non-null   object \n",
      " 53  TotRmsAbvGrd   2919 non-null   int64  \n",
      " 54  Functional     2917 non-null   object \n",
      " 55  Fireplaces     2919 non-null   int64  \n",
      " 56  FireplaceQu    1499 non-null   object \n",
      " 57  GarageType     2762 non-null   object \n",
      " 58  GarageYrBlt    2760 non-null   float64\n",
      " 59  GarageFinish   2760 non-null   object \n",
      " 60  GarageCars     2918 non-null   float64\n",
      " 61  GarageArea     2918 non-null   float64\n",
      " 62  GarageQual     2760 non-null   object \n",
      " 63  GarageCond     2760 non-null   object \n",
      " 64  PavedDrive     2919 non-null   object \n",
      " 65  WoodDeckSF     2919 non-null   int64  \n",
      " 66  OpenPorchSF    2919 non-null   int64  \n",
      " 67  EnclosedPorch  2919 non-null   int64  \n",
      " 68  3SsnPorch      2919 non-null   int64  \n",
      " 69  ScreenPorch    2919 non-null   int64  \n",
      " 70  PoolArea       2919 non-null   int64  \n",
      " 71  PoolQC         10 non-null     object \n",
      " 72  Fence          571 non-null    object \n",
      " 73  MiscFeature    105 non-null    object \n",
      " 74  MiscVal        2919 non-null   int64  \n",
      " 75  MoSold         2919 non-null   int64  \n",
      " 76  YrSold         2919 non-null   int64  \n",
      " 77  SaleType       2918 non-null   object \n",
      " 78  SaleCondition  2919 non-null   object \n",
      "dtypes: float64(11), int64(25), object(43)\n",
      "memory usage: 1.8+ MB\n"
     ]
    }
   ],
   "source": [
    "data1.info()"
   ]
  },
  {
   "cell_type": "code",
   "execution_count": 10,
   "id": "9d14c53e",
   "metadata": {
    "execution": {
     "iopub.execute_input": "2022-11-05T06:49:33.573593Z",
     "iopub.status.busy": "2022-11-05T06:49:33.572637Z",
     "iopub.status.idle": "2022-11-05T06:49:33.689241Z",
     "shell.execute_reply": "2022-11-05T06:49:33.687883Z"
    },
    "papermill": {
     "duration": 0.135888,
     "end_time": "2022-11-05T06:49:33.691938",
     "exception": false,
     "start_time": "2022-11-05T06:49:33.556050",
     "status": "completed"
    },
    "tags": []
   },
   "outputs": [
    {
     "data": {
      "text/html": [
       "<div>\n",
       "<style scoped>\n",
       "    .dataframe tbody tr th:only-of-type {\n",
       "        vertical-align: middle;\n",
       "    }\n",
       "\n",
       "    .dataframe tbody tr th {\n",
       "        vertical-align: top;\n",
       "    }\n",
       "\n",
       "    .dataframe thead th {\n",
       "        text-align: right;\n",
       "    }\n",
       "</style>\n",
       "<table border=\"1\" class=\"dataframe\">\n",
       "  <thead>\n",
       "    <tr style=\"text-align: right;\">\n",
       "      <th></th>\n",
       "      <th>MSSubClass</th>\n",
       "      <th>LotFrontage</th>\n",
       "      <th>LotArea</th>\n",
       "      <th>OverallQual</th>\n",
       "      <th>OverallCond</th>\n",
       "      <th>YearBuilt</th>\n",
       "      <th>YearRemodAdd</th>\n",
       "      <th>MasVnrArea</th>\n",
       "      <th>BsmtFinSF1</th>\n",
       "      <th>BsmtFinSF2</th>\n",
       "      <th>...</th>\n",
       "      <th>GarageArea</th>\n",
       "      <th>WoodDeckSF</th>\n",
       "      <th>OpenPorchSF</th>\n",
       "      <th>EnclosedPorch</th>\n",
       "      <th>3SsnPorch</th>\n",
       "      <th>ScreenPorch</th>\n",
       "      <th>PoolArea</th>\n",
       "      <th>MiscVal</th>\n",
       "      <th>MoSold</th>\n",
       "      <th>YrSold</th>\n",
       "    </tr>\n",
       "  </thead>\n",
       "  <tbody>\n",
       "    <tr>\n",
       "      <th>count</th>\n",
       "      <td>2919.000000</td>\n",
       "      <td>2433.000000</td>\n",
       "      <td>2919.000000</td>\n",
       "      <td>2919.000000</td>\n",
       "      <td>2919.000000</td>\n",
       "      <td>2919.000000</td>\n",
       "      <td>2919.000000</td>\n",
       "      <td>2896.000000</td>\n",
       "      <td>2918.000000</td>\n",
       "      <td>2918.000000</td>\n",
       "      <td>...</td>\n",
       "      <td>2918.000000</td>\n",
       "      <td>2919.000000</td>\n",
       "      <td>2919.000000</td>\n",
       "      <td>2919.000000</td>\n",
       "      <td>2919.000000</td>\n",
       "      <td>2919.000000</td>\n",
       "      <td>2919.000000</td>\n",
       "      <td>2919.000000</td>\n",
       "      <td>2919.000000</td>\n",
       "      <td>2919.000000</td>\n",
       "    </tr>\n",
       "    <tr>\n",
       "      <th>mean</th>\n",
       "      <td>57.137718</td>\n",
       "      <td>69.305795</td>\n",
       "      <td>10168.114080</td>\n",
       "      <td>6.089072</td>\n",
       "      <td>5.564577</td>\n",
       "      <td>1971.312778</td>\n",
       "      <td>1984.264474</td>\n",
       "      <td>102.201312</td>\n",
       "      <td>441.423235</td>\n",
       "      <td>49.582248</td>\n",
       "      <td>...</td>\n",
       "      <td>472.874572</td>\n",
       "      <td>93.709832</td>\n",
       "      <td>47.486811</td>\n",
       "      <td>23.098321</td>\n",
       "      <td>2.602261</td>\n",
       "      <td>16.062350</td>\n",
       "      <td>2.251799</td>\n",
       "      <td>50.825968</td>\n",
       "      <td>6.213087</td>\n",
       "      <td>2007.792737</td>\n",
       "    </tr>\n",
       "    <tr>\n",
       "      <th>std</th>\n",
       "      <td>42.517628</td>\n",
       "      <td>23.344905</td>\n",
       "      <td>7886.996359</td>\n",
       "      <td>1.409947</td>\n",
       "      <td>1.113131</td>\n",
       "      <td>30.291442</td>\n",
       "      <td>20.894344</td>\n",
       "      <td>179.334253</td>\n",
       "      <td>455.610826</td>\n",
       "      <td>169.205611</td>\n",
       "      <td>...</td>\n",
       "      <td>215.394815</td>\n",
       "      <td>126.526589</td>\n",
       "      <td>67.575493</td>\n",
       "      <td>64.244246</td>\n",
       "      <td>25.188169</td>\n",
       "      <td>56.184365</td>\n",
       "      <td>35.663946</td>\n",
       "      <td>567.402211</td>\n",
       "      <td>2.714762</td>\n",
       "      <td>1.314964</td>\n",
       "    </tr>\n",
       "    <tr>\n",
       "      <th>min</th>\n",
       "      <td>20.000000</td>\n",
       "      <td>21.000000</td>\n",
       "      <td>1300.000000</td>\n",
       "      <td>1.000000</td>\n",
       "      <td>1.000000</td>\n",
       "      <td>1872.000000</td>\n",
       "      <td>1950.000000</td>\n",
       "      <td>0.000000</td>\n",
       "      <td>0.000000</td>\n",
       "      <td>0.000000</td>\n",
       "      <td>...</td>\n",
       "      <td>0.000000</td>\n",
       "      <td>0.000000</td>\n",
       "      <td>0.000000</td>\n",
       "      <td>0.000000</td>\n",
       "      <td>0.000000</td>\n",
       "      <td>0.000000</td>\n",
       "      <td>0.000000</td>\n",
       "      <td>0.000000</td>\n",
       "      <td>1.000000</td>\n",
       "      <td>2006.000000</td>\n",
       "    </tr>\n",
       "    <tr>\n",
       "      <th>25%</th>\n",
       "      <td>20.000000</td>\n",
       "      <td>59.000000</td>\n",
       "      <td>7478.000000</td>\n",
       "      <td>5.000000</td>\n",
       "      <td>5.000000</td>\n",
       "      <td>1953.500000</td>\n",
       "      <td>1965.000000</td>\n",
       "      <td>0.000000</td>\n",
       "      <td>0.000000</td>\n",
       "      <td>0.000000</td>\n",
       "      <td>...</td>\n",
       "      <td>320.000000</td>\n",
       "      <td>0.000000</td>\n",
       "      <td>0.000000</td>\n",
       "      <td>0.000000</td>\n",
       "      <td>0.000000</td>\n",
       "      <td>0.000000</td>\n",
       "      <td>0.000000</td>\n",
       "      <td>0.000000</td>\n",
       "      <td>4.000000</td>\n",
       "      <td>2007.000000</td>\n",
       "    </tr>\n",
       "    <tr>\n",
       "      <th>50%</th>\n",
       "      <td>50.000000</td>\n",
       "      <td>68.000000</td>\n",
       "      <td>9453.000000</td>\n",
       "      <td>6.000000</td>\n",
       "      <td>5.000000</td>\n",
       "      <td>1973.000000</td>\n",
       "      <td>1993.000000</td>\n",
       "      <td>0.000000</td>\n",
       "      <td>368.500000</td>\n",
       "      <td>0.000000</td>\n",
       "      <td>...</td>\n",
       "      <td>480.000000</td>\n",
       "      <td>0.000000</td>\n",
       "      <td>26.000000</td>\n",
       "      <td>0.000000</td>\n",
       "      <td>0.000000</td>\n",
       "      <td>0.000000</td>\n",
       "      <td>0.000000</td>\n",
       "      <td>0.000000</td>\n",
       "      <td>6.000000</td>\n",
       "      <td>2008.000000</td>\n",
       "    </tr>\n",
       "    <tr>\n",
       "      <th>75%</th>\n",
       "      <td>70.000000</td>\n",
       "      <td>80.000000</td>\n",
       "      <td>11570.000000</td>\n",
       "      <td>7.000000</td>\n",
       "      <td>6.000000</td>\n",
       "      <td>2001.000000</td>\n",
       "      <td>2004.000000</td>\n",
       "      <td>164.000000</td>\n",
       "      <td>733.000000</td>\n",
       "      <td>0.000000</td>\n",
       "      <td>...</td>\n",
       "      <td>576.000000</td>\n",
       "      <td>168.000000</td>\n",
       "      <td>70.000000</td>\n",
       "      <td>0.000000</td>\n",
       "      <td>0.000000</td>\n",
       "      <td>0.000000</td>\n",
       "      <td>0.000000</td>\n",
       "      <td>0.000000</td>\n",
       "      <td>8.000000</td>\n",
       "      <td>2009.000000</td>\n",
       "    </tr>\n",
       "    <tr>\n",
       "      <th>max</th>\n",
       "      <td>190.000000</td>\n",
       "      <td>313.000000</td>\n",
       "      <td>215245.000000</td>\n",
       "      <td>10.000000</td>\n",
       "      <td>9.000000</td>\n",
       "      <td>2010.000000</td>\n",
       "      <td>2010.000000</td>\n",
       "      <td>1600.000000</td>\n",
       "      <td>5644.000000</td>\n",
       "      <td>1526.000000</td>\n",
       "      <td>...</td>\n",
       "      <td>1488.000000</td>\n",
       "      <td>1424.000000</td>\n",
       "      <td>742.000000</td>\n",
       "      <td>1012.000000</td>\n",
       "      <td>508.000000</td>\n",
       "      <td>576.000000</td>\n",
       "      <td>800.000000</td>\n",
       "      <td>17000.000000</td>\n",
       "      <td>12.000000</td>\n",
       "      <td>2010.000000</td>\n",
       "    </tr>\n",
       "  </tbody>\n",
       "</table>\n",
       "<p>8 rows × 36 columns</p>\n",
       "</div>"
      ],
      "text/plain": [
       "        MSSubClass  LotFrontage        LotArea  OverallQual  OverallCond  \\\n",
       "count  2919.000000  2433.000000    2919.000000  2919.000000  2919.000000   \n",
       "mean     57.137718    69.305795   10168.114080     6.089072     5.564577   \n",
       "std      42.517628    23.344905    7886.996359     1.409947     1.113131   \n",
       "min      20.000000    21.000000    1300.000000     1.000000     1.000000   \n",
       "25%      20.000000    59.000000    7478.000000     5.000000     5.000000   \n",
       "50%      50.000000    68.000000    9453.000000     6.000000     5.000000   \n",
       "75%      70.000000    80.000000   11570.000000     7.000000     6.000000   \n",
       "max     190.000000   313.000000  215245.000000    10.000000     9.000000   \n",
       "\n",
       "         YearBuilt  YearRemodAdd   MasVnrArea   BsmtFinSF1   BsmtFinSF2  ...  \\\n",
       "count  2919.000000   2919.000000  2896.000000  2918.000000  2918.000000  ...   \n",
       "mean   1971.312778   1984.264474   102.201312   441.423235    49.582248  ...   \n",
       "std      30.291442     20.894344   179.334253   455.610826   169.205611  ...   \n",
       "min    1872.000000   1950.000000     0.000000     0.000000     0.000000  ...   \n",
       "25%    1953.500000   1965.000000     0.000000     0.000000     0.000000  ...   \n",
       "50%    1973.000000   1993.000000     0.000000   368.500000     0.000000  ...   \n",
       "75%    2001.000000   2004.000000   164.000000   733.000000     0.000000  ...   \n",
       "max    2010.000000   2010.000000  1600.000000  5644.000000  1526.000000  ...   \n",
       "\n",
       "        GarageArea   WoodDeckSF  OpenPorchSF  EnclosedPorch    3SsnPorch  \\\n",
       "count  2918.000000  2919.000000  2919.000000    2919.000000  2919.000000   \n",
       "mean    472.874572    93.709832    47.486811      23.098321     2.602261   \n",
       "std     215.394815   126.526589    67.575493      64.244246    25.188169   \n",
       "min       0.000000     0.000000     0.000000       0.000000     0.000000   \n",
       "25%     320.000000     0.000000     0.000000       0.000000     0.000000   \n",
       "50%     480.000000     0.000000    26.000000       0.000000     0.000000   \n",
       "75%     576.000000   168.000000    70.000000       0.000000     0.000000   \n",
       "max    1488.000000  1424.000000   742.000000    1012.000000   508.000000   \n",
       "\n",
       "       ScreenPorch     PoolArea       MiscVal       MoSold       YrSold  \n",
       "count  2919.000000  2919.000000   2919.000000  2919.000000  2919.000000  \n",
       "mean     16.062350     2.251799     50.825968     6.213087  2007.792737  \n",
       "std      56.184365    35.663946    567.402211     2.714762     1.314964  \n",
       "min       0.000000     0.000000      0.000000     1.000000  2006.000000  \n",
       "25%       0.000000     0.000000      0.000000     4.000000  2007.000000  \n",
       "50%       0.000000     0.000000      0.000000     6.000000  2008.000000  \n",
       "75%       0.000000     0.000000      0.000000     8.000000  2009.000000  \n",
       "max     576.000000   800.000000  17000.000000    12.000000  2010.000000  \n",
       "\n",
       "[8 rows x 36 columns]"
      ]
     },
     "execution_count": 10,
     "metadata": {},
     "output_type": "execute_result"
    }
   ],
   "source": [
    "data1.describe()"
   ]
  },
  {
   "cell_type": "code",
   "execution_count": 11,
   "id": "19777963",
   "metadata": {
    "execution": {
     "iopub.execute_input": "2022-11-05T06:49:33.723923Z",
     "iopub.status.busy": "2022-11-05T06:49:33.723470Z",
     "iopub.status.idle": "2022-11-05T06:49:33.739824Z",
     "shell.execute_reply": "2022-11-05T06:49:33.738642Z"
    },
    "papermill": {
     "duration": 0.035064,
     "end_time": "2022-11-05T06:49:33.742088",
     "exception": false,
     "start_time": "2022-11-05T06:49:33.707024",
     "status": "completed"
    },
    "tags": []
   },
   "outputs": [
    {
     "data": {
      "text/plain": [
       "MSSubClass         0\n",
       "MSZoning           4\n",
       "LotFrontage      486\n",
       "LotArea            0\n",
       "Street             0\n",
       "                ... \n",
       "MiscVal            0\n",
       "MoSold             0\n",
       "YrSold             0\n",
       "SaleType           1\n",
       "SaleCondition      0\n",
       "Length: 79, dtype: int64"
      ]
     },
     "execution_count": 11,
     "metadata": {},
     "output_type": "execute_result"
    }
   ],
   "source": [
    "data1.isnull().sum() "
   ]
  },
  {
   "cell_type": "code",
   "execution_count": 12,
   "id": "c634a9bd",
   "metadata": {
    "execution": {
     "iopub.execute_input": "2022-11-05T06:49:33.774154Z",
     "iopub.status.busy": "2022-11-05T06:49:33.773577Z",
     "iopub.status.idle": "2022-11-05T06:49:33.783537Z",
     "shell.execute_reply": "2022-11-05T06:49:33.782316Z"
    },
    "papermill": {
     "duration": 0.029027,
     "end_time": "2022-11-05T06:49:33.786288",
     "exception": false,
     "start_time": "2022-11-05T06:49:33.757261",
     "status": "completed"
    },
    "tags": []
   },
   "outputs": [],
   "source": [
    "# Columns Alley, FireplaceQu, PoolQC, Fence and MiscFeatures will be dropped given the overwhelming number of missing values. \n",
    "Missing_Values = data1[['Alley', 'FireplaceQu', 'PoolQC', 'Fence', 'MiscFeature']]\n",
    "data2 = data1.drop(['Alley', 'FireplaceQu', 'PoolQC', 'Fence', 'MiscFeature'],axis=1)"
   ]
  },
  {
   "cell_type": "code",
   "execution_count": 13,
   "id": "dace2005",
   "metadata": {
    "execution": {
     "iopub.execute_input": "2022-11-05T06:49:33.818829Z",
     "iopub.status.busy": "2022-11-05T06:49:33.818421Z",
     "iopub.status.idle": "2022-11-05T06:49:33.827588Z",
     "shell.execute_reply": "2022-11-05T06:49:33.826333Z"
    },
    "papermill": {
     "duration": 0.028199,
     "end_time": "2022-11-05T06:49:33.829850",
     "exception": false,
     "start_time": "2022-11-05T06:49:33.801651",
     "status": "completed"
    },
    "tags": []
   },
   "outputs": [],
   "source": [
    "data2['MSSubClass'] = data2['MSSubClass'].astype(str)"
   ]
  },
  {
   "cell_type": "markdown",
   "id": "847562c4",
   "metadata": {
    "papermill": {
     "duration": 0.014895,
     "end_time": "2022-11-05T06:49:33.860374",
     "exception": false,
     "start_time": "2022-11-05T06:49:33.845479",
     "status": "completed"
    },
    "tags": []
   },
   "source": [
    "Missing Values: Numerical and Categorical"
   ]
  },
  {
   "cell_type": "code",
   "execution_count": 14,
   "id": "33e96e3a",
   "metadata": {
    "execution": {
     "iopub.execute_input": "2022-11-05T06:49:33.892291Z",
     "iopub.status.busy": "2022-11-05T06:49:33.891822Z",
     "iopub.status.idle": "2022-11-05T06:49:34.164191Z",
     "shell.execute_reply": "2022-11-05T06:49:34.162582Z"
    },
    "papermill": {
     "duration": 0.291488,
     "end_time": "2022-11-05T06:49:34.166873",
     "exception": false,
     "start_time": "2022-11-05T06:49:33.875385",
     "status": "completed"
    },
    "tags": []
   },
   "outputs": [
    {
     "data": {
      "image/png": "[encoded data removed]",
      "text/plain": [
       "<Figure size 1500x900 with 1 Axes>"
      ]
     },
     "metadata": {
      "needs_background": "light"
     },
     "output_type": "display_data"
    }
   ],
   "source": [
    "# With Other missing values we will use a combination of either filling using the \"mode\" or \"mean\" of the available values\n",
    "import matplotlib.pyplot as plt\n",
    "\n",
    "plt.figure(figsize=(10,6), dpi=150)\n",
    "plt.hist(data=data2, x='LotFrontage')\n",
    "plt.title('Lot Frontage')\n",
    "plt.show()"
   ]
  },
  {
   "cell_type": "code",
   "execution_count": 15,
   "id": "6d4bc6af",
   "metadata": {
    "execution": {
     "iopub.execute_input": "2022-11-05T06:49:34.207271Z",
     "iopub.status.busy": "2022-11-05T06:49:34.206456Z",
     "iopub.status.idle": "2022-11-05T06:49:34.213697Z",
     "shell.execute_reply": "2022-11-05T06:49:34.212603Z"
    },
    "papermill": {
     "duration": 0.028874,
     "end_time": "2022-11-05T06:49:34.216082",
     "exception": false,
     "start_time": "2022-11-05T06:49:34.187208",
     "status": "completed"
    },
    "tags": []
   },
   "outputs": [],
   "source": [
    "data2['LotFrontage'] = data2['LotFrontage'].fillna(value=int(data2['LotFrontage'].mean()))"
   ]
  },
  {
   "cell_type": "code",
   "execution_count": 16,
   "id": "d71239ac",
   "metadata": {
    "execution": {
     "iopub.execute_input": "2022-11-05T06:49:34.249924Z",
     "iopub.status.busy": "2022-11-05T06:49:34.249446Z",
     "iopub.status.idle": "2022-11-05T06:49:34.543288Z",
     "shell.execute_reply": "2022-11-05T06:49:34.542110Z"
    },
    "papermill": {
     "duration": 0.314413,
     "end_time": "2022-11-05T06:49:34.546374",
     "exception": false,
     "start_time": "2022-11-05T06:49:34.231961",
     "status": "completed"
    },
    "tags": []
   },
   "outputs": [
    {
     "data": {
      "image/png": "[encoded data removed]",
      "text/plain": [
       "<Figure size 1500x900 with 1 Axes>"
      ]
     },
     "metadata": {
      "needs_background": "light"
     },
     "output_type": "display_data"
    }
   ],
   "source": [
    "plt.figure(figsize=(10,6), dpi=150)\n",
    "plt.hist(data=data2, x='LotFrontage')\n",
    "plt.title('Lot Frontage')\n",
    "plt.show()"
   ]
  },
  {
   "cell_type": "code",
   "execution_count": 17,
   "id": "5bfd2513",
   "metadata": {
    "execution": {
     "iopub.execute_input": "2022-11-05T06:49:34.585489Z",
     "iopub.status.busy": "2022-11-05T06:49:34.585009Z",
     "iopub.status.idle": "2022-11-05T06:49:34.595776Z",
     "shell.execute_reply": "2022-11-05T06:49:34.594432Z"
    },
    "papermill": {
     "duration": 0.0315,
     "end_time": "2022-11-05T06:49:34.599052",
     "exception": false,
     "start_time": "2022-11-05T06:49:34.567552",
     "status": "completed"
    },
    "tags": []
   },
   "outputs": [],
   "source": [
    "cat_var =  data2.select_dtypes('object').columns"
   ]
  },
  {
   "cell_type": "code",
   "execution_count": 18,
   "id": "1cde29e6",
   "metadata": {
    "execution": {
     "iopub.execute_input": "2022-11-05T06:49:34.637150Z",
     "iopub.status.busy": "2022-11-05T06:49:34.636374Z",
     "iopub.status.idle": "2022-11-05T06:49:34.678836Z",
     "shell.execute_reply": "2022-11-05T06:49:34.677525Z"
    },
    "papermill": {
     "duration": 0.065746,
     "end_time": "2022-11-05T06:49:34.681694",
     "exception": false,
     "start_time": "2022-11-05T06:49:34.615948",
     "status": "completed"
    },
    "tags": []
   },
   "outputs": [],
   "source": [
    "# Loop for Encoding Categorical Values with mode\n",
    "for column in cat_var:\n",
    "    data2[column] = data2[column].fillna(data2[column].mode()[0])"
   ]
  },
  {
   "cell_type": "code",
   "execution_count": 19,
   "id": "47a985c7",
   "metadata": {
    "execution": {
     "iopub.execute_input": "2022-11-05T06:49:34.715377Z",
     "iopub.status.busy": "2022-11-05T06:49:34.714653Z",
     "iopub.status.idle": "2022-11-05T06:49:34.731249Z",
     "shell.execute_reply": "2022-11-05T06:49:34.729914Z"
    },
    "papermill": {
     "duration": 0.036346,
     "end_time": "2022-11-05T06:49:34.733794",
     "exception": false,
     "start_time": "2022-11-05T06:49:34.697448",
     "status": "completed"
    },
    "tags": []
   },
   "outputs": [
    {
     "data": {
      "text/plain": [
       "MSSubClass       0\n",
       "MSZoning         0\n",
       "LotFrontage      0\n",
       "LotArea          0\n",
       "Street           0\n",
       "                ..\n",
       "MiscVal          0\n",
       "MoSold           0\n",
       "YrSold           0\n",
       "SaleType         0\n",
       "SaleCondition    0\n",
       "Length: 74, dtype: int64"
      ]
     },
     "execution_count": 19,
     "metadata": {},
     "output_type": "execute_result"
    }
   ],
   "source": [
    "data2.isnull().sum()"
   ]
  },
  {
   "cell_type": "code",
   "execution_count": 20,
   "id": "cd6964c0",
   "metadata": {
    "execution": {
     "iopub.execute_input": "2022-11-05T06:49:34.768195Z",
     "iopub.status.busy": "2022-11-05T06:49:34.767733Z",
     "iopub.status.idle": "2022-11-05T06:49:34.774754Z",
     "shell.execute_reply": "2022-11-05T06:49:34.773527Z"
    },
    "papermill": {
     "duration": 0.026687,
     "end_time": "2022-11-05T06:49:34.777191",
     "exception": false,
     "start_time": "2022-11-05T06:49:34.750504",
     "status": "completed"
    },
    "tags": []
   },
   "outputs": [],
   "source": [
    "num_var = data2.select_dtypes([int, float]).columns"
   ]
  },
  {
   "cell_type": "code",
   "execution_count": 21,
   "id": "7f41abfb",
   "metadata": {
    "execution": {
     "iopub.execute_input": "2022-11-05T06:49:34.811452Z",
     "iopub.status.busy": "2022-11-05T06:49:34.811013Z",
     "iopub.status.idle": "2022-11-05T06:49:34.828684Z",
     "shell.execute_reply": "2022-11-05T06:49:34.827784Z"
    },
    "papermill": {
     "duration": 0.037808,
     "end_time": "2022-11-05T06:49:34.831207",
     "exception": false,
     "start_time": "2022-11-05T06:49:34.793399",
     "status": "completed"
    },
    "tags": []
   },
   "outputs": [],
   "source": [
    "for column in num_var:\n",
    "    data2[column] = data2[column].fillna(data2[column].mean())"
   ]
  },
  {
   "cell_type": "code",
   "execution_count": 22,
   "id": "acd7cb77",
   "metadata": {
    "execution": {
     "iopub.execute_input": "2022-11-05T06:49:34.865384Z",
     "iopub.status.busy": "2022-11-05T06:49:34.864661Z",
     "iopub.status.idle": "2022-11-05T06:49:34.870541Z",
     "shell.execute_reply": "2022-11-05T06:49:34.869631Z"
    },
    "papermill": {
     "duration": 0.0259,
     "end_time": "2022-11-05T06:49:34.872914",
     "exception": false,
     "start_time": "2022-11-05T06:49:34.847014",
     "status": "completed"
    },
    "tags": []
   },
   "outputs": [],
   "source": [
    "data3 = data2.copy()"
   ]
  },
  {
   "cell_type": "code",
   "execution_count": 23,
   "id": "352b484f",
   "metadata": {
    "execution": {
     "iopub.execute_input": "2022-11-05T06:49:34.907278Z",
     "iopub.status.busy": "2022-11-05T06:49:34.906829Z",
     "iopub.status.idle": "2022-11-05T06:49:34.911665Z",
     "shell.execute_reply": "2022-11-05T06:49:34.910375Z"
    },
    "papermill": {
     "duration": 0.024696,
     "end_time": "2022-11-05T06:49:34.914035",
     "exception": false,
     "start_time": "2022-11-05T06:49:34.889339",
     "status": "completed"
    },
    "tags": []
   },
   "outputs": [],
   "source": [
    "# Feature Transformations"
   ]
  },
  {
   "cell_type": "code",
   "execution_count": 24,
   "id": "ecc94f05",
   "metadata": {
    "execution": {
     "iopub.execute_input": "2022-11-05T06:49:34.947872Z",
     "iopub.status.busy": "2022-11-05T06:49:34.947216Z",
     "iopub.status.idle": "2022-11-05T06:49:34.977848Z",
     "shell.execute_reply": "2022-11-05T06:49:34.976685Z"
    },
    "papermill": {
     "duration": 0.050587,
     "end_time": "2022-11-05T06:49:34.980463",
     "exception": false,
     "start_time": "2022-11-05T06:49:34.929876",
     "status": "completed"
    },
    "tags": []
   },
   "outputs": [
    {
     "data": {
      "text/html": [
       "<div>\n",
       "<style scoped>\n",
       "    .dataframe tbody tr th:only-of-type {\n",
       "        vertical-align: middle;\n",
       "    }\n",
       "\n",
       "    .dataframe tbody tr th {\n",
       "        vertical-align: top;\n",
       "    }\n",
       "\n",
       "    .dataframe thead th {\n",
       "        text-align: right;\n",
       "    }\n",
       "</style>\n",
       "<table border=\"1\" class=\"dataframe\">\n",
       "  <thead>\n",
       "    <tr style=\"text-align: right;\">\n",
       "      <th></th>\n",
       "      <th>LotFrontage</th>\n",
       "      <th>LotArea</th>\n",
       "      <th>OverallQual</th>\n",
       "      <th>OverallCond</th>\n",
       "      <th>YearBuilt</th>\n",
       "      <th>YearRemodAdd</th>\n",
       "      <th>MasVnrArea</th>\n",
       "      <th>BsmtFinSF1</th>\n",
       "      <th>BsmtFinSF2</th>\n",
       "      <th>BsmtUnfSF</th>\n",
       "      <th>...</th>\n",
       "      <th>GarageArea</th>\n",
       "      <th>WoodDeckSF</th>\n",
       "      <th>OpenPorchSF</th>\n",
       "      <th>EnclosedPorch</th>\n",
       "      <th>3SsnPorch</th>\n",
       "      <th>ScreenPorch</th>\n",
       "      <th>PoolArea</th>\n",
       "      <th>MiscVal</th>\n",
       "      <th>MoSold</th>\n",
       "      <th>YrSold</th>\n",
       "    </tr>\n",
       "  </thead>\n",
       "  <tbody>\n",
       "    <tr>\n",
       "      <th>0</th>\n",
       "      <td>65.0</td>\n",
       "      <td>8450</td>\n",
       "      <td>7</td>\n",
       "      <td>5</td>\n",
       "      <td>2003</td>\n",
       "      <td>2003</td>\n",
       "      <td>196.0</td>\n",
       "      <td>706.0</td>\n",
       "      <td>0.0</td>\n",
       "      <td>150.0</td>\n",
       "      <td>...</td>\n",
       "      <td>548.0</td>\n",
       "      <td>0</td>\n",
       "      <td>61</td>\n",
       "      <td>0</td>\n",
       "      <td>0</td>\n",
       "      <td>0</td>\n",
       "      <td>0</td>\n",
       "      <td>0</td>\n",
       "      <td>2</td>\n",
       "      <td>2008</td>\n",
       "    </tr>\n",
       "    <tr>\n",
       "      <th>1</th>\n",
       "      <td>80.0</td>\n",
       "      <td>9600</td>\n",
       "      <td>6</td>\n",
       "      <td>8</td>\n",
       "      <td>1976</td>\n",
       "      <td>1976</td>\n",
       "      <td>0.0</td>\n",
       "      <td>978.0</td>\n",
       "      <td>0.0</td>\n",
       "      <td>284.0</td>\n",
       "      <td>...</td>\n",
       "      <td>460.0</td>\n",
       "      <td>298</td>\n",
       "      <td>0</td>\n",
       "      <td>0</td>\n",
       "      <td>0</td>\n",
       "      <td>0</td>\n",
       "      <td>0</td>\n",
       "      <td>0</td>\n",
       "      <td>5</td>\n",
       "      <td>2007</td>\n",
       "    </tr>\n",
       "    <tr>\n",
       "      <th>2</th>\n",
       "      <td>68.0</td>\n",
       "      <td>11250</td>\n",
       "      <td>7</td>\n",
       "      <td>5</td>\n",
       "      <td>2001</td>\n",
       "      <td>2002</td>\n",
       "      <td>162.0</td>\n",
       "      <td>486.0</td>\n",
       "      <td>0.0</td>\n",
       "      <td>434.0</td>\n",
       "      <td>...</td>\n",
       "      <td>608.0</td>\n",
       "      <td>0</td>\n",
       "      <td>42</td>\n",
       "      <td>0</td>\n",
       "      <td>0</td>\n",
       "      <td>0</td>\n",
       "      <td>0</td>\n",
       "      <td>0</td>\n",
       "      <td>9</td>\n",
       "      <td>2008</td>\n",
       "    </tr>\n",
       "    <tr>\n",
       "      <th>3</th>\n",
       "      <td>60.0</td>\n",
       "      <td>9550</td>\n",
       "      <td>7</td>\n",
       "      <td>5</td>\n",
       "      <td>1915</td>\n",
       "      <td>1970</td>\n",
       "      <td>0.0</td>\n",
       "      <td>216.0</td>\n",
       "      <td>0.0</td>\n",
       "      <td>540.0</td>\n",
       "      <td>...</td>\n",
       "      <td>642.0</td>\n",
       "      <td>0</td>\n",
       "      <td>35</td>\n",
       "      <td>272</td>\n",
       "      <td>0</td>\n",
       "      <td>0</td>\n",
       "      <td>0</td>\n",
       "      <td>0</td>\n",
       "      <td>2</td>\n",
       "      <td>2006</td>\n",
       "    </tr>\n",
       "    <tr>\n",
       "      <th>4</th>\n",
       "      <td>84.0</td>\n",
       "      <td>14260</td>\n",
       "      <td>8</td>\n",
       "      <td>5</td>\n",
       "      <td>2000</td>\n",
       "      <td>2000</td>\n",
       "      <td>350.0</td>\n",
       "      <td>655.0</td>\n",
       "      <td>0.0</td>\n",
       "      <td>490.0</td>\n",
       "      <td>...</td>\n",
       "      <td>836.0</td>\n",
       "      <td>192</td>\n",
       "      <td>84</td>\n",
       "      <td>0</td>\n",
       "      <td>0</td>\n",
       "      <td>0</td>\n",
       "      <td>0</td>\n",
       "      <td>0</td>\n",
       "      <td>12</td>\n",
       "      <td>2008</td>\n",
       "    </tr>\n",
       "    <tr>\n",
       "      <th>...</th>\n",
       "      <td>...</td>\n",
       "      <td>...</td>\n",
       "      <td>...</td>\n",
       "      <td>...</td>\n",
       "      <td>...</td>\n",
       "      <td>...</td>\n",
       "      <td>...</td>\n",
       "      <td>...</td>\n",
       "      <td>...</td>\n",
       "      <td>...</td>\n",
       "      <td>...</td>\n",
       "      <td>...</td>\n",
       "      <td>...</td>\n",
       "      <td>...</td>\n",
       "      <td>...</td>\n",
       "      <td>...</td>\n",
       "      <td>...</td>\n",
       "      <td>...</td>\n",
       "      <td>...</td>\n",
       "      <td>...</td>\n",
       "      <td>...</td>\n",
       "    </tr>\n",
       "    <tr>\n",
       "      <th>1454</th>\n",
       "      <td>21.0</td>\n",
       "      <td>1936</td>\n",
       "      <td>4</td>\n",
       "      <td>7</td>\n",
       "      <td>1970</td>\n",
       "      <td>1970</td>\n",
       "      <td>0.0</td>\n",
       "      <td>0.0</td>\n",
       "      <td>0.0</td>\n",
       "      <td>546.0</td>\n",
       "      <td>...</td>\n",
       "      <td>0.0</td>\n",
       "      <td>0</td>\n",
       "      <td>0</td>\n",
       "      <td>0</td>\n",
       "      <td>0</td>\n",
       "      <td>0</td>\n",
       "      <td>0</td>\n",
       "      <td>0</td>\n",
       "      <td>6</td>\n",
       "      <td>2006</td>\n",
       "    </tr>\n",
       "    <tr>\n",
       "      <th>1455</th>\n",
       "      <td>21.0</td>\n",
       "      <td>1894</td>\n",
       "      <td>4</td>\n",
       "      <td>5</td>\n",
       "      <td>1970</td>\n",
       "      <td>1970</td>\n",
       "      <td>0.0</td>\n",
       "      <td>252.0</td>\n",
       "      <td>0.0</td>\n",
       "      <td>294.0</td>\n",
       "      <td>...</td>\n",
       "      <td>286.0</td>\n",
       "      <td>0</td>\n",
       "      <td>24</td>\n",
       "      <td>0</td>\n",
       "      <td>0</td>\n",
       "      <td>0</td>\n",
       "      <td>0</td>\n",
       "      <td>0</td>\n",
       "      <td>4</td>\n",
       "      <td>2006</td>\n",
       "    </tr>\n",
       "    <tr>\n",
       "      <th>1456</th>\n",
       "      <td>160.0</td>\n",
       "      <td>20000</td>\n",
       "      <td>5</td>\n",
       "      <td>7</td>\n",
       "      <td>1960</td>\n",
       "      <td>1996</td>\n",
       "      <td>0.0</td>\n",
       "      <td>1224.0</td>\n",
       "      <td>0.0</td>\n",
       "      <td>0.0</td>\n",
       "      <td>...</td>\n",
       "      <td>576.0</td>\n",
       "      <td>474</td>\n",
       "      <td>0</td>\n",
       "      <td>0</td>\n",
       "      <td>0</td>\n",
       "      <td>0</td>\n",
       "      <td>0</td>\n",
       "      <td>0</td>\n",
       "      <td>9</td>\n",
       "      <td>2006</td>\n",
       "    </tr>\n",
       "    <tr>\n",
       "      <th>1457</th>\n",
       "      <td>62.0</td>\n",
       "      <td>10441</td>\n",
       "      <td>5</td>\n",
       "      <td>5</td>\n",
       "      <td>1992</td>\n",
       "      <td>1992</td>\n",
       "      <td>0.0</td>\n",
       "      <td>337.0</td>\n",
       "      <td>0.0</td>\n",
       "      <td>575.0</td>\n",
       "      <td>...</td>\n",
       "      <td>0.0</td>\n",
       "      <td>80</td>\n",
       "      <td>32</td>\n",
       "      <td>0</td>\n",
       "      <td>0</td>\n",
       "      <td>0</td>\n",
       "      <td>0</td>\n",
       "      <td>700</td>\n",
       "      <td>7</td>\n",
       "      <td>2006</td>\n",
       "    </tr>\n",
       "    <tr>\n",
       "      <th>1458</th>\n",
       "      <td>74.0</td>\n",
       "      <td>9627</td>\n",
       "      <td>7</td>\n",
       "      <td>5</td>\n",
       "      <td>1993</td>\n",
       "      <td>1994</td>\n",
       "      <td>94.0</td>\n",
       "      <td>758.0</td>\n",
       "      <td>0.0</td>\n",
       "      <td>238.0</td>\n",
       "      <td>...</td>\n",
       "      <td>650.0</td>\n",
       "      <td>190</td>\n",
       "      <td>48</td>\n",
       "      <td>0</td>\n",
       "      <td>0</td>\n",
       "      <td>0</td>\n",
       "      <td>0</td>\n",
       "      <td>0</td>\n",
       "      <td>11</td>\n",
       "      <td>2006</td>\n",
       "    </tr>\n",
       "  </tbody>\n",
       "</table>\n",
       "<p>2919 rows × 35 columns</p>\n",
       "</div>"
      ],
      "text/plain": [
       "      LotFrontage  LotArea  OverallQual  OverallCond  YearBuilt  YearRemodAdd  \\\n",
       "0            65.0     8450            7            5       2003          2003   \n",
       "1            80.0     9600            6            8       1976          1976   \n",
       "2            68.0    11250            7            5       2001          2002   \n",
       "3            60.0     9550            7            5       1915          1970   \n",
       "4            84.0    14260            8            5       2000          2000   \n",
       "...           ...      ...          ...          ...        ...           ...   \n",
       "1454         21.0     1936            4            7       1970          1970   \n",
       "1455         21.0     1894            4            5       1970          1970   \n",
       "1456        160.0    20000            5            7       1960          1996   \n",
       "1457         62.0    10441            5            5       1992          1992   \n",
       "1458         74.0     9627            7            5       1993          1994   \n",
       "\n",
       "      MasVnrArea  BsmtFinSF1  BsmtFinSF2  BsmtUnfSF  ...  GarageArea  \\\n",
       "0          196.0       706.0         0.0      150.0  ...       548.0   \n",
       "1            0.0       978.0         0.0      284.0  ...       460.0   \n",
       "2          162.0       486.0         0.0      434.0  ...       608.0   \n",
       "3            0.0       216.0         0.0      540.0  ...       642.0   \n",
       "4          350.0       655.0         0.0      490.0  ...       836.0   \n",
       "...          ...         ...         ...        ...  ...         ...   \n",
       "1454         0.0         0.0         0.0      546.0  ...         0.0   \n",
       "1455         0.0       252.0         0.0      294.0  ...       286.0   \n",
       "1456         0.0      1224.0         0.0        0.0  ...       576.0   \n",
       "1457         0.0       337.0         0.0      575.0  ...         0.0   \n",
       "1458        94.0       758.0         0.0      238.0  ...       650.0   \n",
       "\n",
       "      WoodDeckSF  OpenPorchSF  EnclosedPorch  3SsnPorch  ScreenPorch  \\\n",
       "0              0           61              0          0            0   \n",
       "1            298            0              0          0            0   \n",
       "2              0           42              0          0            0   \n",
       "3              0           35            272          0            0   \n",
       "4            192           84              0          0            0   \n",
       "...          ...          ...            ...        ...          ...   \n",
       "1454           0            0              0          0            0   \n",
       "1455           0           24              0          0            0   \n",
       "1456         474            0              0          0            0   \n",
       "1457          80           32              0          0            0   \n",
       "1458         190           48              0          0            0   \n",
       "\n",
       "      PoolArea  MiscVal  MoSold  YrSold  \n",
       "0            0        0       2    2008  \n",
       "1            0        0       5    2007  \n",
       "2            0        0       9    2008  \n",
       "3            0        0       2    2006  \n",
       "4            0        0      12    2008  \n",
       "...        ...      ...     ...     ...  \n",
       "1454         0        0       6    2006  \n",
       "1455         0        0       4    2006  \n",
       "1456         0        0       9    2006  \n",
       "1457         0      700       7    2006  \n",
       "1458         0        0      11    2006  \n",
       "\n",
       "[2919 rows x 35 columns]"
      ]
     },
     "execution_count": 24,
     "metadata": {},
     "output_type": "execute_result"
    }
   ],
   "source": [
    "data3.select_dtypes(np.number)"
   ]
  },
  {
   "cell_type": "code",
   "execution_count": 25,
   "id": "12ef29f0",
   "metadata": {
    "execution": {
     "iopub.execute_input": "2022-11-05T06:49:35.016678Z",
     "iopub.status.busy": "2022-11-05T06:49:35.015275Z",
     "iopub.status.idle": "2022-11-05T06:49:36.045999Z",
     "shell.execute_reply": "2022-11-05T06:49:36.044012Z"
    },
    "papermill": {
     "duration": 1.051591,
     "end_time": "2022-11-05T06:49:36.048433",
     "exception": true,
     "start_time": "2022-11-05T06:49:34.996842",
     "status": "failed"
    },
    "tags": []
   },
   "outputs": [
    {
     "ename": "NameError",
     "evalue": "name 'scipy' is not defined",
     "output_type": "error",
     "traceback": [
      "\u001b[0;31m---------------------------------------------------------------------------\u001b[0m",
      "\u001b[0;31mNameError\u001b[0m                                 Traceback (most recent call last)",
      "\u001b[0;32m/tmp/ipykernel_19/3429155225.py\u001b[0m in \u001b[0;36m<module>\u001b[0;34m\u001b[0m\n\u001b[1;32m      2\u001b[0m \u001b[0;34m\u001b[0m\u001b[0m\n\u001b[1;32m      3\u001b[0m \u001b[0mskewed_df\u001b[0m \u001b[0;34m=\u001b[0m \u001b[0mpd\u001b[0m\u001b[0;34m.\u001b[0m\u001b[0mDataFrame\u001b[0m\u001b[0;34m(\u001b[0m\u001b[0mdata3\u001b[0m\u001b[0;34m.\u001b[0m\u001b[0mselect_dtypes\u001b[0m\u001b[0;34m(\u001b[0m\u001b[0mnp\u001b[0m\u001b[0;34m.\u001b[0m\u001b[0mnumber\u001b[0m\u001b[0;34m)\u001b[0m\u001b[0;34m.\u001b[0m\u001b[0mcolumns\u001b[0m\u001b[0;34m,\u001b[0m \u001b[0mcolumns\u001b[0m\u001b[0;34m=\u001b[0m\u001b[0;34m[\u001b[0m\u001b[0;34m'Feature'\u001b[0m\u001b[0;34m]\u001b[0m\u001b[0;34m)\u001b[0m\u001b[0;34m\u001b[0m\u001b[0;34m\u001b[0m\u001b[0m\n\u001b[0;32m----> 4\u001b[0;31m \u001b[0mskewed_df\u001b[0m\u001b[0;34m[\u001b[0m\u001b[0;34m'Skew'\u001b[0m\u001b[0;34m]\u001b[0m \u001b[0;34m=\u001b[0m \u001b[0mskewed_df\u001b[0m\u001b[0;34m[\u001b[0m\u001b[0;34m'Feature'\u001b[0m\u001b[0;34m]\u001b[0m\u001b[0;34m.\u001b[0m\u001b[0mapply\u001b[0m\u001b[0;34m(\u001b[0m\u001b[0;32mlambda\u001b[0m \u001b[0mfeature\u001b[0m\u001b[0;34m:\u001b[0m \u001b[0mscipy\u001b[0m\u001b[0;34m.\u001b[0m\u001b[0mstats\u001b[0m\u001b[0;34m.\u001b[0m\u001b[0mskew\u001b[0m\u001b[0;34m(\u001b[0m\u001b[0mdata3\u001b[0m\u001b[0;34m[\u001b[0m\u001b[0mfeature\u001b[0m\u001b[0;34m]\u001b[0m\u001b[0;34m)\u001b[0m\u001b[0;34m)\u001b[0m\u001b[0;34m\u001b[0m\u001b[0;34m\u001b[0m\u001b[0m\n\u001b[0m\u001b[1;32m      5\u001b[0m \u001b[0mskewed_df\u001b[0m\u001b[0;34m[\u001b[0m\u001b[0;34m'Absolute_Skew'\u001b[0m\u001b[0;34m]\u001b[0m \u001b[0;34m=\u001b[0m \u001b[0mskewed_df\u001b[0m\u001b[0;34m[\u001b[0m\u001b[0;34m'Skew'\u001b[0m\u001b[0;34m]\u001b[0m\u001b[0;34m.\u001b[0m\u001b[0mapply\u001b[0m\u001b[0;34m(\u001b[0m\u001b[0mabs\u001b[0m\u001b[0;34m)\u001b[0m\u001b[0;34m\u001b[0m\u001b[0;34m\u001b[0m\u001b[0m\n\u001b[1;32m      6\u001b[0m \u001b[0mskewed_df\u001b[0m\u001b[0;34m[\u001b[0m\u001b[0;34m'Skewed'\u001b[0m\u001b[0;34m]\u001b[0m \u001b[0;34m=\u001b[0m \u001b[0mskewed_df\u001b[0m\u001b[0;34m[\u001b[0m\u001b[0;34m'Absolute_Skew'\u001b[0m\u001b[0;34m]\u001b[0m\u001b[0;34m.\u001b[0m\u001b[0mapply\u001b[0m\u001b[0;34m(\u001b[0m\u001b[0;32mlambda\u001b[0m \u001b[0mx\u001b[0m\u001b[0;34m:\u001b[0m \u001b[0;32mTrue\u001b[0m \u001b[0;32mif\u001b[0m \u001b[0mx\u001b[0m \u001b[0;34m>=\u001b[0m \u001b[0;36m0.5\u001b[0m \u001b[0;32melse\u001b[0m \u001b[0;32mFalse\u001b[0m\u001b[0;34m)\u001b[0m\u001b[0;34m\u001b[0m\u001b[0;34m\u001b[0m\u001b[0m\n",
      "\u001b[0;32m/opt/conda/lib/python3.7/site-packages/pandas/core/series.py\u001b[0m in \u001b[0;36mapply\u001b[0;34m(self, func, convert_dtype, args, **kwargs)\u001b[0m\n\u001b[1;32m   4355\u001b[0m         \u001b[0mdtype\u001b[0m\u001b[0;34m:\u001b[0m \u001b[0mfloat64\u001b[0m\u001b[0;34m\u001b[0m\u001b[0;34m\u001b[0m\u001b[0m\n\u001b[1;32m   4356\u001b[0m         \"\"\"\n\u001b[0;32m-> 4357\u001b[0;31m         \u001b[0;32mreturn\u001b[0m \u001b[0mSeriesApply\u001b[0m\u001b[0;34m(\u001b[0m\u001b[0mself\u001b[0m\u001b[0;34m,\u001b[0m \u001b[0mfunc\u001b[0m\u001b[0;34m,\u001b[0m \u001b[0mconvert_dtype\u001b[0m\u001b[0;34m,\u001b[0m \u001b[0margs\u001b[0m\u001b[0;34m,\u001b[0m \u001b[0mkwargs\u001b[0m\u001b[0;34m)\u001b[0m\u001b[0;34m.\u001b[0m\u001b[0mapply\u001b[0m\u001b[0;34m(\u001b[0m\u001b[0;34m)\u001b[0m\u001b[0;34m\u001b[0m\u001b[0;34m\u001b[0m\u001b[0m\n\u001b[0m\u001b[1;32m   4358\u001b[0m \u001b[0;34m\u001b[0m\u001b[0m\n\u001b[1;32m   4359\u001b[0m     def _reduce(\n",
      "\u001b[0;32m/opt/conda/lib/python3.7/site-packages/pandas/core/apply.py\u001b[0m in \u001b[0;36mapply\u001b[0;34m(self)\u001b[0m\n\u001b[1;32m   1041\u001b[0m             \u001b[0;32mreturn\u001b[0m \u001b[0mself\u001b[0m\u001b[0;34m.\u001b[0m\u001b[0mapply_str\u001b[0m\u001b[0;34m(\u001b[0m\u001b[0;34m)\u001b[0m\u001b[0;34m\u001b[0m\u001b[0;34m\u001b[0m\u001b[0m\n\u001b[1;32m   1042\u001b[0m \u001b[0;34m\u001b[0m\u001b[0m\n\u001b[0;32m-> 1043\u001b[0;31m         \u001b[0;32mreturn\u001b[0m \u001b[0mself\u001b[0m\u001b[0;34m.\u001b[0m\u001b[0mapply_standard\u001b[0m\u001b[0;34m(\u001b[0m\u001b[0;34m)\u001b[0m\u001b[0;34m\u001b[0m\u001b[0;34m\u001b[0m\u001b[0m\n\u001b[0m\u001b[1;32m   1044\u001b[0m \u001b[0;34m\u001b[0m\u001b[0m\n\u001b[1;32m   1045\u001b[0m     \u001b[0;32mdef\u001b[0m \u001b[0magg\u001b[0m\u001b[0;34m(\u001b[0m\u001b[0mself\u001b[0m\u001b[0;34m)\u001b[0m\u001b[0;34m:\u001b[0m\u001b[0;34m\u001b[0m\u001b[0;34m\u001b[0m\u001b[0m\n",
      "\u001b[0;32m/opt/conda/lib/python3.7/site-packages/pandas/core/apply.py\u001b[0m in \u001b[0;36mapply_standard\u001b[0;34m(self)\u001b[0m\n\u001b[1;32m   1099\u001b[0m                     \u001b[0mvalues\u001b[0m\u001b[0;34m,\u001b[0m\u001b[0;34m\u001b[0m\u001b[0;34m\u001b[0m\u001b[0m\n\u001b[1;32m   1100\u001b[0m                     \u001b[0mf\u001b[0m\u001b[0;34m,\u001b[0m  \u001b[0;31m# type: ignore[arg-type]\u001b[0m\u001b[0;34m\u001b[0m\u001b[0;34m\u001b[0m\u001b[0m\n\u001b[0;32m-> 1101\u001b[0;31m                     \u001b[0mconvert\u001b[0m\u001b[0;34m=\u001b[0m\u001b[0mself\u001b[0m\u001b[0;34m.\u001b[0m\u001b[0mconvert_dtype\u001b[0m\u001b[0;34m,\u001b[0m\u001b[0;34m\u001b[0m\u001b[0;34m\u001b[0m\u001b[0m\n\u001b[0m\u001b[1;32m   1102\u001b[0m                 )\n\u001b[1;32m   1103\u001b[0m \u001b[0;34m\u001b[0m\u001b[0m\n",
      "\u001b[0;32m/opt/conda/lib/python3.7/site-packages/pandas/_libs/lib.pyx\u001b[0m in \u001b[0;36mpandas._libs.lib.map_infer\u001b[0;34m()\u001b[0m\n",
      "\u001b[0;32m/tmp/ipykernel_19/3429155225.py\u001b[0m in \u001b[0;36m<lambda>\u001b[0;34m(feature)\u001b[0m\n\u001b[1;32m      2\u001b[0m \u001b[0;34m\u001b[0m\u001b[0m\n\u001b[1;32m      3\u001b[0m \u001b[0mskewed_df\u001b[0m \u001b[0;34m=\u001b[0m \u001b[0mpd\u001b[0m\u001b[0;34m.\u001b[0m\u001b[0mDataFrame\u001b[0m\u001b[0;34m(\u001b[0m\u001b[0mdata3\u001b[0m\u001b[0;34m.\u001b[0m\u001b[0mselect_dtypes\u001b[0m\u001b[0;34m(\u001b[0m\u001b[0mnp\u001b[0m\u001b[0;34m.\u001b[0m\u001b[0mnumber\u001b[0m\u001b[0;34m)\u001b[0m\u001b[0;34m.\u001b[0m\u001b[0mcolumns\u001b[0m\u001b[0;34m,\u001b[0m \u001b[0mcolumns\u001b[0m\u001b[0;34m=\u001b[0m\u001b[0;34m[\u001b[0m\u001b[0;34m'Feature'\u001b[0m\u001b[0;34m]\u001b[0m\u001b[0;34m)\u001b[0m\u001b[0;34m\u001b[0m\u001b[0;34m\u001b[0m\u001b[0m\n\u001b[0;32m----> 4\u001b[0;31m \u001b[0mskewed_df\u001b[0m\u001b[0;34m[\u001b[0m\u001b[0;34m'Skew'\u001b[0m\u001b[0;34m]\u001b[0m \u001b[0;34m=\u001b[0m \u001b[0mskewed_df\u001b[0m\u001b[0;34m[\u001b[0m\u001b[0;34m'Feature'\u001b[0m\u001b[0;34m]\u001b[0m\u001b[0;34m.\u001b[0m\u001b[0mapply\u001b[0m\u001b[0;34m(\u001b[0m\u001b[0;32mlambda\u001b[0m \u001b[0mfeature\u001b[0m\u001b[0;34m:\u001b[0m \u001b[0mscipy\u001b[0m\u001b[0;34m.\u001b[0m\u001b[0mstats\u001b[0m\u001b[0;34m.\u001b[0m\u001b[0mskew\u001b[0m\u001b[0;34m(\u001b[0m\u001b[0mdata3\u001b[0m\u001b[0;34m[\u001b[0m\u001b[0mfeature\u001b[0m\u001b[0;34m]\u001b[0m\u001b[0;34m)\u001b[0m\u001b[0;34m)\u001b[0m\u001b[0;34m\u001b[0m\u001b[0;34m\u001b[0m\u001b[0m\n\u001b[0m\u001b[1;32m      5\u001b[0m \u001b[0mskewed_df\u001b[0m\u001b[0;34m[\u001b[0m\u001b[0;34m'Absolute_Skew'\u001b[0m\u001b[0;34m]\u001b[0m \u001b[0;34m=\u001b[0m \u001b[0mskewed_df\u001b[0m\u001b[0;34m[\u001b[0m\u001b[0;34m'Skew'\u001b[0m\u001b[0;34m]\u001b[0m\u001b[0;34m.\u001b[0m\u001b[0mapply\u001b[0m\u001b[0;34m(\u001b[0m\u001b[0mabs\u001b[0m\u001b[0;34m)\u001b[0m\u001b[0;34m\u001b[0m\u001b[0;34m\u001b[0m\u001b[0m\n\u001b[1;32m      6\u001b[0m \u001b[0mskewed_df\u001b[0m\u001b[0;34m[\u001b[0m\u001b[0;34m'Skewed'\u001b[0m\u001b[0;34m]\u001b[0m \u001b[0;34m=\u001b[0m \u001b[0mskewed_df\u001b[0m\u001b[0;34m[\u001b[0m\u001b[0;34m'Absolute_Skew'\u001b[0m\u001b[0;34m]\u001b[0m\u001b[0;34m.\u001b[0m\u001b[0mapply\u001b[0m\u001b[0;34m(\u001b[0m\u001b[0;32mlambda\u001b[0m \u001b[0mx\u001b[0m\u001b[0;34m:\u001b[0m \u001b[0;32mTrue\u001b[0m \u001b[0;32mif\u001b[0m \u001b[0mx\u001b[0m \u001b[0;34m>=\u001b[0m \u001b[0;36m0.5\u001b[0m \u001b[0;32melse\u001b[0m \u001b[0;32mFalse\u001b[0m\u001b[0;34m)\u001b[0m\u001b[0;34m\u001b[0m\u001b[0;34m\u001b[0m\u001b[0m\n",
      "\u001b[0;31mNameError\u001b[0m: name 'scipy' is not defined"
     ]
    }
   ],
   "source": [
    "from scipy import stats\n",
    "\n",
    "skewed_df = pd.DataFrame(data3.select_dtypes(np.number).columns, columns=['Feature'])\n",
    "skewed_df['Skew'] = skewed_df['Feature'].apply(lambda feature: scipy.stats.skew(data3[feature]))\n",
    "skewed_df['Absolute_Skew'] = skewed_df['Skew'].apply(abs)\n",
    "skewed_df['Skewed'] = skewed_df['Absolute_Skew'].apply(lambda x: True if x >= 0.5 else False)\n",
    "print(skewed_df)"
   ]
  },
  {
   "cell_type": "code",
   "execution_count": null,
   "id": "71e065a7",
   "metadata": {
    "execution": {
     "iopub.execute_input": "2022-11-05T06:43:47.785603Z",
     "iopub.status.busy": "2022-11-05T06:43:47.785336Z",
     "iopub.status.idle": "2022-11-05T06:43:47.798164Z",
     "shell.execute_reply": "2022-11-05T06:43:47.797211Z",
     "shell.execute_reply.started": "2022-11-05T06:43:47.785579Z"
    },
    "papermill": {
     "duration": null,
     "end_time": null,
     "exception": null,
     "start_time": null,
     "status": "pending"
    },
    "tags": []
   },
   "outputs": [],
   "source": [
    "skewed_df.query(\"Skewed == True\")['Feature']"
   ]
  },
  {
   "cell_type": "code",
   "execution_count": null,
   "id": "7580838e",
   "metadata": {
    "execution": {
     "iopub.execute_input": "2022-11-05T06:43:47.799916Z",
     "iopub.status.busy": "2022-11-05T06:43:47.799612Z",
     "iopub.status.idle": "2022-11-05T06:43:47.824084Z",
     "shell.execute_reply": "2022-11-05T06:43:47.823240Z",
     "shell.execute_reply.started": "2022-11-05T06:43:47.799891Z"
    },
    "papermill": {
     "duration": null,
     "end_time": null,
     "exception": null,
     "start_time": null,
     "status": "pending"
    },
    "tags": []
   },
   "outputs": [],
   "source": [
    "for column in skewed_df.query(\"Skewed == True\")['Feature'].values:\n",
    "        data3[column] = np.log1p(data3[column])  # Applying a Log+1 transformation to the skewed data\n",
    "        "
   ]
  },
  {
   "cell_type": "code",
   "execution_count": null,
   "id": "7eb4ff7e",
   "metadata": {
    "execution": {
     "iopub.execute_input": "2022-11-05T06:43:47.825876Z",
     "iopub.status.busy": "2022-11-05T06:43:47.825261Z",
     "iopub.status.idle": "2022-11-05T06:43:48.010103Z",
     "shell.execute_reply": "2022-11-05T06:43:48.009186Z",
     "shell.execute_reply.started": "2022-11-05T06:43:47.825841Z"
    },
    "papermill": {
     "duration": null,
     "end_time": null,
     "exception": null,
     "start_time": null,
     "status": "pending"
    },
    "tags": []
   },
   "outputs": [],
   "source": [
    "# Show whether transformation works. \n",
    "\n",
    "plt.figure(figsize=(10,4), dpi=150)\n",
    "plt.hist(data=data3, x='LotFrontage')\n",
    "plt.title('Transformed Lot Frontage')\n",
    "plt.show()"
   ]
  },
  {
   "cell_type": "code",
   "execution_count": null,
   "id": "ab6bc8d6",
   "metadata": {
    "execution": {
     "iopub.execute_input": "2022-11-05T06:43:48.011543Z",
     "iopub.status.busy": "2022-11-05T06:43:48.011288Z",
     "iopub.status.idle": "2022-11-05T06:43:48.060575Z",
     "shell.execute_reply": "2022-11-05T06:43:48.059669Z",
     "shell.execute_reply.started": "2022-11-05T06:43:48.011519Z"
    },
    "papermill": {
     "duration": null,
     "end_time": null,
     "exception": null,
     "start_time": null,
     "status": "pending"
    },
    "tags": []
   },
   "outputs": [],
   "source": [
    "# Encode Categoricals\n",
    "data4 = data3.copy()\n",
    "\n",
    "data4 = pd.get_dummies(data4)"
   ]
  },
  {
   "cell_type": "code",
   "execution_count": null,
   "id": "4f9574ac",
   "metadata": {
    "execution": {
     "iopub.execute_input": "2022-11-05T06:43:48.063199Z",
     "iopub.status.busy": "2022-11-05T06:43:48.062854Z",
     "iopub.status.idle": "2022-11-05T06:43:48.086776Z",
     "shell.execute_reply": "2022-11-05T06:43:48.085476Z",
     "shell.execute_reply.started": "2022-11-05T06:43:48.063167Z"
    },
    "papermill": {
     "duration": null,
     "end_time": null,
     "exception": null,
     "start_time": null,
     "status": "pending"
    },
    "tags": []
   },
   "outputs": [],
   "source": [
    "# Scale Data\n",
    "from sklearn.preprocessing import StandardScaler\n",
    "\n",
    "scaler = StandardScaler()\n",
    "\n",
    "scaler.fit(data4)\n",
    "\n",
    "data4 = pd.DataFrame(scaler.transform(data4), index=data4.index, columns=data4.columns) # Turn numpy array into DataFrame"
   ]
  },
  {
   "cell_type": "code",
   "execution_count": null,
   "id": "d9b2a8b0",
   "metadata": {
    "execution": {
     "iopub.execute_input": "2022-11-05T06:43:48.088543Z",
     "iopub.status.busy": "2022-11-05T06:43:48.088035Z",
     "iopub.status.idle": "2022-11-05T06:43:48.092705Z",
     "shell.execute_reply": "2022-11-05T06:43:48.092084Z",
     "shell.execute_reply.started": "2022-11-05T06:43:48.088519Z"
    },
    "papermill": {
     "duration": null,
     "end_time": null,
     "exception": null,
     "start_time": null,
     "status": "pending"
    },
    "tags": []
   },
   "outputs": [],
   "source": [
    "data5 = data4.copy()"
   ]
  },
  {
   "cell_type": "code",
   "execution_count": null,
   "id": "4c53c975",
   "metadata": {
    "execution": {
     "iopub.execute_input": "2022-11-05T06:43:48.098030Z",
     "iopub.status.busy": "2022-11-05T06:43:48.097489Z",
     "iopub.status.idle": "2022-11-05T06:43:48.548253Z",
     "shell.execute_reply": "2022-11-05T06:43:48.546655Z",
     "shell.execute_reply.started": "2022-11-05T06:43:48.097996Z"
    },
    "papermill": {
     "duration": null,
     "end_time": null,
     "exception": null,
     "start_time": null,
     "status": "pending"
    },
    "tags": []
   },
   "outputs": [],
   "source": [
    "# Target Transformation\n",
    "import seaborn as sns\n",
    "\n",
    "plt.figure(figsize=(10,4), dpi=150)\n",
    "\n",
    "plt.subplot(1,2,1)\n",
    "sns.distplot(Target, kde=True, fit=scipy.stats.norm) #Deprecated Function\n",
    "plt.title(\"Without Log Transformation\")\n",
    "\n",
    "\n",
    "# With Log Transformation\n",
    "\n",
    "plt.subplot(1,2,2)\n",
    "sns.distplot(np.log(Target), kde=True, fit=scipy.stats.norm) #Deprecated Function\n",
    "plt.title(\"With Log Transformation\")\n",
    "\n",
    "plt.show()"
   ]
  },
  {
   "cell_type": "code",
   "execution_count": null,
   "id": "cbd94f53",
   "metadata": {
    "execution": {
     "iopub.execute_input": "2022-11-05T06:43:48.550573Z",
     "iopub.status.busy": "2022-11-05T06:43:48.550216Z",
     "iopub.status.idle": "2022-11-05T06:43:48.557295Z",
     "shell.execute_reply": "2022-11-05T06:43:48.556012Z",
     "shell.execute_reply.started": "2022-11-05T06:43:48.550540Z"
    },
    "papermill": {
     "duration": null,
     "end_time": null,
     "exception": null,
     "start_time": null,
     "status": "pending"
    },
    "tags": []
   },
   "outputs": [],
   "source": [
    "log_target = np.log(Target)\n",
    "print(log_target)"
   ]
  },
  {
   "cell_type": "code",
   "execution_count": null,
   "id": "d94ce96e",
   "metadata": {
    "execution": {
     "iopub.execute_input": "2022-11-05T06:43:48.558913Z",
     "iopub.status.busy": "2022-11-05T06:43:48.558595Z",
     "iopub.status.idle": "2022-11-05T06:43:48.574203Z",
     "shell.execute_reply": "2022-11-05T06:43:48.572740Z",
     "shell.execute_reply.started": "2022-11-05T06:43:48.558881Z"
    },
    "papermill": {
     "duration": null,
     "end_time": null,
     "exception": null,
     "start_time": null,
     "status": "pending"
    },
    "tags": []
   },
   "outputs": [],
   "source": [
    "Train_final = data5.loc[: train1.index.max(), :].copy()\n",
    "Test_final = data5.loc[: test1.index.max() + 1:, :].reset_index(drop=True).copy()"
   ]
  },
  {
   "cell_type": "code",
   "execution_count": null,
   "id": "e6fc5a80",
   "metadata": {
    "execution": {
     "iopub.execute_input": "2022-11-05T06:43:48.576159Z",
     "iopub.status.busy": "2022-11-05T06:43:48.575840Z",
     "iopub.status.idle": "2022-11-05T06:43:48.603638Z",
     "shell.execute_reply": "2022-11-05T06:43:48.602110Z",
     "shell.execute_reply.started": "2022-11-05T06:43:48.576132Z"
    },
    "papermill": {
     "duration": null,
     "end_time": null,
     "exception": null,
     "start_time": null,
     "status": "pending"
    },
    "tags": []
   },
   "outputs": [],
   "source": [
    "Train_final.head()"
   ]
  },
  {
   "cell_type": "code",
   "execution_count": null,
   "id": "47e30856",
   "metadata": {
    "execution": {
     "iopub.execute_input": "2022-11-05T06:43:48.605417Z",
     "iopub.status.busy": "2022-11-05T06:43:48.605089Z",
     "iopub.status.idle": "2022-11-05T06:43:48.631401Z",
     "shell.execute_reply": "2022-11-05T06:43:48.630265Z",
     "shell.execute_reply.started": "2022-11-05T06:43:48.605388Z"
    },
    "papermill": {
     "duration": null,
     "end_time": null,
     "exception": null,
     "start_time": null,
     "status": "pending"
    },
    "tags": []
   },
   "outputs": [],
   "source": [
    "Test_final.head()"
   ]
  },
  {
   "cell_type": "code",
   "execution_count": null,
   "id": "98c1af6e",
   "metadata": {
    "execution": {
     "iopub.execute_input": "2022-11-05T06:43:48.633073Z",
     "iopub.status.busy": "2022-11-05T06:43:48.632712Z",
     "iopub.status.idle": "2022-11-05T06:43:48.642661Z",
     "shell.execute_reply": "2022-11-05T06:43:48.641533Z",
     "shell.execute_reply.started": "2022-11-05T06:43:48.633044Z"
    },
    "papermill": {
     "duration": null,
     "end_time": null,
     "exception": null,
     "start_time": null,
     "status": "pending"
    },
    "tags": []
   },
   "outputs": [],
   "source": [
    "from sklearn.model_selection import train_test_split\n",
    "\n",
    "X_train, X_test, y_train, y_test = train_test_split(Train_final, log_target, test_size = 0.33)"
   ]
  },
  {
   "cell_type": "code",
   "execution_count": null,
   "id": "9fa0f783",
   "metadata": {
    "execution": {
     "iopub.execute_input": "2022-11-05T06:43:48.644257Z",
     "iopub.status.busy": "2022-11-05T06:43:48.643986Z",
     "iopub.status.idle": "2022-11-05T06:43:48.656286Z",
     "shell.execute_reply": "2022-11-05T06:43:48.654920Z",
     "shell.execute_reply.started": "2022-11-05T06:43:48.644232Z"
    },
    "papermill": {
     "duration": null,
     "end_time": null,
     "exception": null,
     "start_time": null,
     "status": "pending"
    },
    "tags": []
   },
   "outputs": [],
   "source": [
    "# Model Selections\n",
    "from sklearn.linear_model import LinearRegression, Ridge, ElasticNet, BayesianRidge, HuberRegressor\n",
    "from sklearn.model_selection import cross_val_score\n",
    "from lightgbm import LGBMRegressor\n",
    "from sklearn.ensemble import GradientBoostingRegressor\n",
    "from sklearn.svm import SVR\n",
    "from catboost import CatBoostRegressor\n",
    "from xgboost import XGBRegressor"
   ]
  },
  {
   "cell_type": "code",
   "execution_count": null,
   "id": "b0e3eb71",
   "metadata": {
    "execution": {
     "iopub.execute_input": "2022-11-05T06:43:48.658397Z",
     "iopub.status.busy": "2022-11-05T06:43:48.658068Z",
     "iopub.status.idle": "2022-11-05T06:43:49.399695Z",
     "shell.execute_reply": "2022-11-05T06:43:49.398877Z",
     "shell.execute_reply.started": "2022-11-05T06:43:48.658369Z"
    },
    "papermill": {
     "duration": null,
     "end_time": null,
     "exception": null,
     "start_time": null,
     "status": "pending"
    },
    "tags": []
   },
   "outputs": [],
   "source": [
    "# Linear Regression\n",
    "\n",
    "linreg = LinearRegression()\n",
    "\n",
    "cv1 = cross_val_score(linreg, X_train, y_train, cv=10)\n",
    "\n",
    "print(cv1)\n",
    "print(cv1.mean())"
   ]
  },
  {
   "cell_type": "code",
   "execution_count": null,
   "id": "cb1dd5a0",
   "metadata": {
    "execution": {
     "iopub.execute_input": "2022-11-05T06:43:49.402632Z",
     "iopub.status.busy": "2022-11-05T06:43:49.401178Z",
     "iopub.status.idle": "2022-11-05T06:43:49.708491Z",
     "shell.execute_reply": "2022-11-05T06:43:49.707762Z",
     "shell.execute_reply.started": "2022-11-05T06:43:49.402597Z"
    },
    "papermill": {
     "duration": null,
     "end_time": null,
     "exception": null,
     "start_time": null,
     "status": "pending"
    },
    "tags": []
   },
   "outputs": [],
   "source": [
    "# Ridge Regression\n",
    "\n",
    "Rreg = Ridge()\n",
    "\n",
    "cv2 = cross_val_score(Rreg, X_train, y_train, cv=10)\n",
    "print(cv2)\n",
    "print(cv2.mean())"
   ]
  },
  {
   "cell_type": "code",
   "execution_count": null,
   "id": "c1bb4e78",
   "metadata": {
    "execution": {
     "iopub.execute_input": "2022-11-05T06:43:49.710955Z",
     "iopub.status.busy": "2022-11-05T06:43:49.710069Z",
     "iopub.status.idle": "2022-11-05T06:43:52.924676Z",
     "shell.execute_reply": "2022-11-05T06:43:52.923924Z",
     "shell.execute_reply.started": "2022-11-05T06:43:49.710925Z"
    },
    "papermill": {
     "duration": null,
     "end_time": null,
     "exception": null,
     "start_time": null,
     "status": "pending"
    },
    "tags": []
   },
   "outputs": [],
   "source": [
    "# Huber Regression\n",
    "\n",
    "HReg = HuberRegressor(max_iter=1000)\n",
    "\n",
    "cv3 = cross_val_score(HReg, X_train, y_train, cv=10)\n",
    "print(cv3)\n",
    "print(cv3.mean())"
   ]
  },
  {
   "cell_type": "code",
   "execution_count": null,
   "id": "d4ccc56e",
   "metadata": {
    "execution": {
     "iopub.execute_input": "2022-11-05T06:43:52.926445Z",
     "iopub.status.busy": "2022-11-05T06:43:52.925703Z",
     "iopub.status.idle": "2022-11-05T06:43:53.116169Z",
     "shell.execute_reply": "2022-11-05T06:43:53.115362Z",
     "shell.execute_reply.started": "2022-11-05T06:43:52.926414Z"
    },
    "papermill": {
     "duration": null,
     "end_time": null,
     "exception": null,
     "start_time": null,
     "status": "pending"
    },
    "tags": []
   },
   "outputs": [],
   "source": [
    "# Elastic Net\n",
    "\n",
    "Enet = ElasticNet()\n",
    "\n",
    "cv4 = cross_val_score(Enet, X_train, y_train, cv=10)\n",
    "print(cv4)\n",
    "print(cv4.mean())"
   ]
  },
  {
   "cell_type": "code",
   "execution_count": null,
   "id": "b69b29b8",
   "metadata": {
    "execution": {
     "iopub.execute_input": "2022-11-05T06:43:53.119018Z",
     "iopub.status.busy": "2022-11-05T06:43:53.117803Z",
     "iopub.status.idle": "2022-11-05T06:43:54.081692Z",
     "shell.execute_reply": "2022-11-05T06:43:54.080950Z",
     "shell.execute_reply.started": "2022-11-05T06:43:53.118986Z"
    },
    "papermill": {
     "duration": null,
     "end_time": null,
     "exception": null,
     "start_time": null,
     "status": "pending"
    },
    "tags": []
   },
   "outputs": [],
   "source": [
    "# Bayesian Ridge\n",
    "\n",
    "BReg = BayesianRidge()\n",
    "\n",
    "cv5 = cross_val_score(BReg, X_train, y_train, cv=10)\n",
    "\n",
    "print(cv5)\n",
    "print(cv5.mean())"
   ]
  },
  {
   "cell_type": "code",
   "execution_count": null,
   "id": "88a03d84",
   "metadata": {
    "execution": {
     "iopub.execute_input": "2022-11-05T06:43:54.084544Z",
     "iopub.status.busy": "2022-11-05T06:43:54.083360Z",
     "iopub.status.idle": "2022-11-05T06:43:54.638378Z",
     "shell.execute_reply": "2022-11-05T06:43:54.636897Z",
     "shell.execute_reply.started": "2022-11-05T06:43:54.084512Z"
    },
    "papermill": {
     "duration": null,
     "end_time": null,
     "exception": null,
     "start_time": null,
     "status": "pending"
    },
    "tags": []
   },
   "outputs": [],
   "source": [
    "# Support Vector Regressor\n",
    "\n",
    "SVR = SVR()\n",
    "\n",
    "cv6 = cross_val_score(SVR, X_train, y_train, cv=10)\n",
    "print(cv6)\n",
    "print(cv6.mean())"
   ]
  },
  {
   "cell_type": "code",
   "execution_count": null,
   "id": "fa10402a",
   "metadata": {
    "execution": {
     "iopub.execute_input": "2022-11-05T06:43:54.640188Z",
     "iopub.status.busy": "2022-11-05T06:43:54.639801Z",
     "iopub.status.idle": "2022-11-05T06:44:22.762123Z",
     "shell.execute_reply": "2022-11-05T06:44:22.760919Z",
     "shell.execute_reply.started": "2022-11-05T06:43:54.640157Z"
    },
    "papermill": {
     "duration": null,
     "end_time": null,
     "exception": null,
     "start_time": null,
     "status": "pending"
    },
    "tags": []
   },
   "outputs": [],
   "source": [
    "# Catboost Regressor\n",
    "\n",
    "CBR = CatBoostRegressor(verbose=0)\n",
    "\n",
    "cv7 = cross_val_score(CBR, X_train, y_train, cv=10)\n",
    "print(cv7)\n",
    "print(cv7.mean())"
   ]
  },
  {
   "cell_type": "code",
   "execution_count": null,
   "id": "4c6c0457",
   "metadata": {
    "execution": {
     "iopub.execute_input": "2022-11-05T06:44:22.763779Z",
     "iopub.status.busy": "2022-11-05T06:44:22.763491Z",
     "iopub.status.idle": "2022-11-05T06:44:28.422587Z",
     "shell.execute_reply": "2022-11-05T06:44:28.421022Z",
     "shell.execute_reply.started": "2022-11-05T06:44:22.763754Z"
    },
    "papermill": {
     "duration": null,
     "end_time": null,
     "exception": null,
     "start_time": null,
     "status": "pending"
    },
    "tags": []
   },
   "outputs": [],
   "source": [
    "# Gradient Booster Regressor\n",
    "\n",
    "GBR = GradientBoostingRegressor()\n",
    "\n",
    "cv8 = cross_val_score(GBR, X_train, y_train, cv=10)\n",
    "print(cv8)\n",
    "print(cv8.mean())"
   ]
  },
  {
   "cell_type": "code",
   "execution_count": null,
   "id": "0f132573",
   "metadata": {
    "execution": {
     "iopub.execute_input": "2022-11-05T06:44:28.424283Z",
     "iopub.status.busy": "2022-11-05T06:44:28.423897Z",
     "iopub.status.idle": "2022-11-05T06:44:30.715550Z",
     "shell.execute_reply": "2022-11-05T06:44:30.714852Z",
     "shell.execute_reply.started": "2022-11-05T06:44:28.424249Z"
    },
    "papermill": {
     "duration": null,
     "end_time": null,
     "exception": null,
     "start_time": null,
     "status": "pending"
    },
    "tags": []
   },
   "outputs": [],
   "source": [
    "# Light Gradient Boosting\n",
    "\n",
    "LGB = LGBMRegressor()\n",
    "cv9 = cross_val_score(LGB, X_train, y_train, cv=10)\n",
    "print(cv9)\n",
    "print(cv9.mean())"
   ]
  },
  {
   "cell_type": "code",
   "execution_count": null,
   "id": "02050ffe",
   "metadata": {
    "execution": {
     "iopub.execute_input": "2022-11-05T06:44:30.720259Z",
     "iopub.status.busy": "2022-11-05T06:44:30.718480Z",
     "iopub.status.idle": "2022-11-05T06:44:40.826405Z",
     "shell.execute_reply": "2022-11-05T06:44:40.823433Z",
     "shell.execute_reply.started": "2022-11-05T06:44:30.720231Z"
    },
    "papermill": {
     "duration": null,
     "end_time": null,
     "exception": null,
     "start_time": null,
     "status": "pending"
    },
    "tags": []
   },
   "outputs": [],
   "source": [
    "# XGB Regressor\n",
    "\n",
    "XGB = XGBRegressor()\n",
    "\n",
    "cv10 = cross_val_score(XGB, X_train, y_train, cv=10)\n",
    "print(cv10)\n",
    "print(cv10.mean())"
   ]
  },
  {
   "cell_type": "code",
   "execution_count": null,
   "id": "d959a277",
   "metadata": {
    "execution": {
     "iopub.execute_input": "2022-11-05T06:44:40.830091Z",
     "iopub.status.busy": "2022-11-05T06:44:40.827599Z",
     "iopub.status.idle": "2022-11-05T06:45:14.534151Z",
     "shell.execute_reply": "2022-11-05T06:45:14.533169Z",
     "shell.execute_reply.started": "2022-11-05T06:44:40.830047Z"
    },
    "papermill": {
     "duration": null,
     "end_time": null,
     "exception": null,
     "start_time": null,
     "status": "pending"
    },
    "tags": []
   },
   "outputs": [],
   "source": [
    "# Baseline Model\n",
    "\n",
    "Baseline = CatBoostRegressor(verbose=0) #CatBoostRegressor was our best model. So using it as Baseline\n",
    "\n",
    "Baseline.fit(Train_final, log_target)\n",
    "\n",
    "# Evaluate Model\n",
    "from sklearn.model_selection import KFold\n",
    "\n",
    "Kfold = KFold(n_splits=10)\n",
    "\n",
    "baseline_results = cross_val_score(Baseline, Train_final, log_target, scoring='neg_mean_squared_error', cv=Kfold)"
   ]
  },
  {
   "cell_type": "code",
   "execution_count": null,
   "id": "af3969aa",
   "metadata": {
    "execution": {
     "iopub.execute_input": "2022-11-05T06:45:14.535490Z",
     "iopub.status.busy": "2022-11-05T06:45:14.535240Z",
     "iopub.status.idle": "2022-11-05T06:45:14.541031Z",
     "shell.execute_reply": "2022-11-05T06:45:14.539741Z",
     "shell.execute_reply.started": "2022-11-05T06:45:14.535467Z"
    },
    "papermill": {
     "duration": null,
     "end_time": null,
     "exception": null,
     "start_time": null,
     "status": "pending"
    },
    "tags": []
   },
   "outputs": [],
   "source": [
    "print((np.exp(np.sqrt(np.mean(-baseline_results)))))"
   ]
  },
  {
   "cell_type": "code",
   "execution_count": null,
   "id": "06204b3f",
   "metadata": {
    "execution": {
     "iopub.execute_input": "2022-11-05T06:45:14.543236Z",
     "iopub.status.busy": "2022-11-05T06:45:14.542794Z",
     "iopub.status.idle": "2022-11-05T06:45:14.753599Z",
     "shell.execute_reply": "2022-11-05T06:45:14.752500Z",
     "shell.execute_reply.started": "2022-11-05T06:45:14.543202Z"
    },
    "papermill": {
     "duration": null,
     "end_time": null,
     "exception": null,
     "start_time": null,
     "status": "pending"
    },
    "tags": []
   },
   "outputs": [],
   "source": [
    "plt.figure(figsize=(10,4), dpi=150)\n",
    "\n",
    "sns.distplot(-baseline_results, bins=10, kde=True)\n",
    "\n",
    "plt.show()"
   ]
  },
  {
   "cell_type": "code",
   "execution_count": null,
   "id": "eb5bd166",
   "metadata": {
    "execution": {
     "iopub.execute_input": "2022-11-05T06:45:14.755616Z",
     "iopub.status.busy": "2022-11-05T06:45:14.755346Z",
     "iopub.status.idle": "2022-11-05T06:45:14.768063Z",
     "shell.execute_reply": "2022-11-05T06:45:14.767119Z",
     "shell.execute_reply.started": "2022-11-05T06:45:14.755590Z"
    },
    "papermill": {
     "duration": null,
     "end_time": null,
     "exception": null,
     "start_time": null,
     "status": "pending"
    },
    "tags": []
   },
   "outputs": [],
   "source": [
    "sample_submission"
   ]
  },
  {
   "cell_type": "code",
   "execution_count": null,
   "id": "feb384b8",
   "metadata": {
    "execution": {
     "iopub.execute_input": "2022-11-05T06:45:14.770030Z",
     "iopub.status.busy": "2022-11-05T06:45:14.769687Z",
     "iopub.status.idle": "2022-11-05T06:45:14.799739Z",
     "shell.execute_reply": "2022-11-05T06:45:14.798313Z",
     "shell.execute_reply.started": "2022-11-05T06:45:14.769997Z"
    },
    "papermill": {
     "duration": null,
     "end_time": null,
     "exception": null,
     "start_time": null,
     "status": "pending"
    },
    "tags": []
   },
   "outputs": [],
   "source": [
    "Predictions = np.exp(Baseline.predict(Test_final))"
   ]
  },
  {
   "cell_type": "code",
   "execution_count": null,
   "id": "ef209f51",
   "metadata": {
    "execution": {
     "iopub.execute_input": "2022-11-05T06:47:51.400214Z",
     "iopub.status.busy": "2022-11-05T06:47:51.399626Z",
     "iopub.status.idle": "2022-11-05T06:47:51.408240Z",
     "shell.execute_reply": "2022-11-05T06:47:51.407389Z",
     "shell.execute_reply.started": "2022-11-05T06:47:51.400179Z"
    },
    "papermill": {
     "duration": null,
     "end_time": null,
     "exception": null,
     "start_time": null,
     "status": "pending"
    },
    "tags": []
   },
   "outputs": [],
   "source": [
    "Submission = (pd.concat([Test_ids.astype(str), pd.Series(Predictions, name='SalePrice')], axis=1))"
   ]
  },
  {
   "cell_type": "code",
   "execution_count": null,
   "id": "3f0f3814",
   "metadata": {
    "execution": {
     "iopub.execute_input": "2022-11-05T06:47:44.812398Z",
     "iopub.status.busy": "2022-11-05T06:47:44.812009Z",
     "iopub.status.idle": "2022-11-05T06:47:44.823361Z",
     "shell.execute_reply": "2022-11-05T06:47:44.822246Z",
     "shell.execute_reply.started": "2022-11-05T06:47:44.812367Z"
    },
    "papermill": {
     "duration": null,
     "end_time": null,
     "exception": null,
     "start_time": null,
     "status": "pending"
    },
    "tags": []
   },
   "outputs": [],
   "source": [
    "Submission.to_csv('./submission.csv', index=False, header=True)"
   ]
  },
  {
   "cell_type": "code",
   "execution_count": null,
   "id": "8f1f5404",
   "metadata": {
    "execution": {
     "iopub.execute_input": "2022-11-05T06:47:53.469529Z",
     "iopub.status.busy": "2022-11-05T06:47:53.468913Z",
     "iopub.status.idle": "2022-11-05T06:47:53.483263Z",
     "shell.execute_reply": "2022-11-05T06:47:53.481656Z",
     "shell.execute_reply.started": "2022-11-05T06:47:53.469493Z"
    },
    "papermill": {
     "duration": null,
     "end_time": null,
     "exception": null,
     "start_time": null,
     "status": "pending"
    },
    "tags": []
   },
   "outputs": [],
   "source": [
    "Submission"
   ]
  }
 ],
 "metadata": {
  "kernelspec": {
   "display_name": "Python 3",
   "language": "python",
   "name": "python3"
  },
  "language_info": {
   "codemirror_mode": {
    "name": "ipython",
    "version": 3
   },
   "file_extension": ".py",
   "mimetype": "text/x-python",
   "name": "python",
   "nbconvert_exporter": "python",
   "pygments_lexer": "ipython3",
   "version": "3.7.12"
  },
  "papermill": {
   "default_parameters": {},
   "duration": 12.853138,
   "end_time": "2022-11-05T06:49:36.788058",
   "environment_variables": {},
   "exception": true,
   "input_path": "__notebook__.ipynb",
   "output_path": "__notebook__.ipynb",
   "parameters": {},
   "start_time": "2022-11-05T06:49:23.934920",
   "version": "2.3.4"
  }
 },
 "nbformat": 4,
 "nbformat_minor": 5
}
